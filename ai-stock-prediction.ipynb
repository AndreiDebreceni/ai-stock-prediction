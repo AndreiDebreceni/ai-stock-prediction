{
 "cells": [
  {
   "cell_type": "markdown",
   "metadata": {},
   "source": [
    "We bring the imports we need"
   ]
  },
  {
   "cell_type": "code",
   "execution_count": 1,
   "metadata": {},
   "outputs": [
    {
     "name": "stderr",
     "output_type": "stream",
     "text": [
      "2024-03-25 13:02:52.277033: I tensorflow/core/platform/cpu_feature_guard.cc:182] This TensorFlow binary is optimized to use available CPU instructions in performance-critical operations.\n",
      "To enable the following instructions: SSE4.1 SSE4.2 AVX AVX2 FMA, in other operations, rebuild TensorFlow with the appropriate compiler flags.\n"
     ]
    }
   ],
   "source": [
    "import numpy as np\n",
    "import pandas as pd\n",
    "import matplotlib.pyplot as plt\n",
    "import seaborn as sns\n",
    "from datetime import datetime\n",
    "import yfinance as yf\n",
    "from sklearn.preprocessing import MinMaxScaler\n",
    "from sklearn.model_selection import train_test_split\n",
    "import tensorflow as tf\n",
    "from keras.models import Sequential\n",
    "from keras.layers import LSTM, Dense, Dropout, GRU\n",
    "from keras.optimizers import Adam\n",
    "from keras.callbacks import LearningRateScheduler\n"
   ]
  },
  {
   "cell_type": "markdown",
   "metadata": {},
   "source": [
    "## Load dataset"
   ]
  },
  {
   "cell_type": "markdown",
   "metadata": {},
   "source": [
    "We will use yfincance to get the data from *Microsoft*"
   ]
  },
  {
   "cell_type": "code",
   "execution_count": 2,
   "metadata": {},
   "outputs": [
    {
     "name": "stderr",
     "output_type": "stream",
     "text": [
      "[*********************100%%**********************]  1 of 1 completed\n"
     ]
    },
    {
     "data": {
      "text/plain": [
       "(2012, 6)"
      ]
     },
     "execution_count": 2,
     "metadata": {},
     "output_type": "execute_result"
    }
   ],
   "source": [
    "end = datetime.now()\n",
    "start = datetime(2016, end.month, end.day)\n",
    "dataset = yf.download(\"MSFT\", start, end)\n",
    "dataset.shape"
   ]
  },
  {
   "cell_type": "markdown",
   "metadata": {},
   "source": [
    "## Inspect dataset"
   ]
  },
  {
   "cell_type": "markdown",
   "metadata": {},
   "source": [
    "Let's see the dataset that we have"
   ]
  },
  {
   "cell_type": "code",
   "execution_count": 3,
   "metadata": {},
   "outputs": [
    {
     "data": {
      "text/html": [
       "<div>\n",
       "<style scoped>\n",
       "    .dataframe tbody tr th:only-of-type {\n",
       "        vertical-align: middle;\n",
       "    }\n",
       "\n",
       "    .dataframe tbody tr th {\n",
       "        vertical-align: top;\n",
       "    }\n",
       "\n",
       "    .dataframe thead th {\n",
       "        text-align: right;\n",
       "    }\n",
       "</style>\n",
       "<table border=\"1\" class=\"dataframe\">\n",
       "  <thead>\n",
       "    <tr style=\"text-align: right;\">\n",
       "      <th></th>\n",
       "      <th>Open</th>\n",
       "      <th>High</th>\n",
       "      <th>Low</th>\n",
       "      <th>Close</th>\n",
       "      <th>Adj Close</th>\n",
       "      <th>Volume</th>\n",
       "    </tr>\n",
       "    <tr>\n",
       "      <th>Date</th>\n",
       "      <th></th>\n",
       "      <th></th>\n",
       "      <th></th>\n",
       "      <th></th>\n",
       "      <th></th>\n",
       "      <th></th>\n",
       "    </tr>\n",
       "  </thead>\n",
       "  <tbody>\n",
       "    <tr>\n",
       "      <th>2024-03-18</th>\n",
       "      <td>414.250000</td>\n",
       "      <td>420.730011</td>\n",
       "      <td>413.779999</td>\n",
       "      <td>417.320007</td>\n",
       "      <td>417.320007</td>\n",
       "      <td>20106000</td>\n",
       "    </tr>\n",
       "    <tr>\n",
       "      <th>2024-03-19</th>\n",
       "      <td>417.829987</td>\n",
       "      <td>421.670013</td>\n",
       "      <td>415.549988</td>\n",
       "      <td>421.410004</td>\n",
       "      <td>421.410004</td>\n",
       "      <td>19837900</td>\n",
       "    </tr>\n",
       "    <tr>\n",
       "      <th>2024-03-20</th>\n",
       "      <td>422.000000</td>\n",
       "      <td>425.959991</td>\n",
       "      <td>420.660004</td>\n",
       "      <td>425.230011</td>\n",
       "      <td>425.230011</td>\n",
       "      <td>17860100</td>\n",
       "    </tr>\n",
       "    <tr>\n",
       "      <th>2024-03-21</th>\n",
       "      <td>429.829987</td>\n",
       "      <td>430.820007</td>\n",
       "      <td>427.160004</td>\n",
       "      <td>429.369995</td>\n",
       "      <td>429.369995</td>\n",
       "      <td>21296200</td>\n",
       "    </tr>\n",
       "    <tr>\n",
       "      <th>2024-03-22</th>\n",
       "      <td>429.700012</td>\n",
       "      <td>429.859985</td>\n",
       "      <td>426.070007</td>\n",
       "      <td>428.739990</td>\n",
       "      <td>428.739990</td>\n",
       "      <td>17636500</td>\n",
       "    </tr>\n",
       "  </tbody>\n",
       "</table>\n",
       "</div>"
      ],
      "text/plain": [
       "                  Open        High         Low       Close   Adj Close  \\\n",
       "Date                                                                     \n",
       "2024-03-18  414.250000  420.730011  413.779999  417.320007  417.320007   \n",
       "2024-03-19  417.829987  421.670013  415.549988  421.410004  421.410004   \n",
       "2024-03-20  422.000000  425.959991  420.660004  425.230011  425.230011   \n",
       "2024-03-21  429.829987  430.820007  427.160004  429.369995  429.369995   \n",
       "2024-03-22  429.700012  429.859985  426.070007  428.739990  428.739990   \n",
       "\n",
       "              Volume  \n",
       "Date                  \n",
       "2024-03-18  20106000  \n",
       "2024-03-19  19837900  \n",
       "2024-03-20  17860100  \n",
       "2024-03-21  21296200  \n",
       "2024-03-22  17636500  "
      ]
     },
     "execution_count": 3,
     "metadata": {},
     "output_type": "execute_result"
    }
   ],
   "source": [
    "dataset.tail()"
   ]
  },
  {
   "cell_type": "markdown",
   "metadata": {},
   "source": [
    "Here we remove the last row and we save it in a new variable to use it to compare predicted price with the last price we have in the last row."
   ]
  },
  {
   "cell_type": "code",
   "execution_count": 4,
   "metadata": {},
   "outputs": [],
   "source": [
    "last_row = dataset.iloc[-1]\n",
    "dataset.drop(dataset.index[-1], inplace=True)\n"
   ]
  },
  {
   "cell_type": "markdown",
   "metadata": {},
   "source": [
    "Let's check for null data"
   ]
  },
  {
   "cell_type": "code",
   "execution_count": 5,
   "metadata": {},
   "outputs": [
    {
     "data": {
      "text/plain": [
       "Open         0\n",
       "High         0\n",
       "Low          0\n",
       "Close        0\n",
       "Adj Close    0\n",
       "Volume       0\n",
       "dtype: int64"
      ]
     },
     "execution_count": 5,
     "metadata": {},
     "output_type": "execute_result"
    }
   ],
   "source": [
    "dataset.isna().sum()"
   ]
  },
  {
   "cell_type": "markdown",
   "metadata": {},
   "source": [
    "We will check what type of data are the columns from dataset"
   ]
  },
  {
   "cell_type": "code",
   "execution_count": 6,
   "metadata": {},
   "outputs": [
    {
     "name": "stdout",
     "output_type": "stream",
     "text": [
      "<class 'pandas.core.frame.DataFrame'>\n",
      "DatetimeIndex: 2011 entries, 2016-03-28 to 2024-03-21\n",
      "Data columns (total 6 columns):\n",
      " #   Column     Non-Null Count  Dtype  \n",
      "---  ------     --------------  -----  \n",
      " 0   Open       2011 non-null   float64\n",
      " 1   High       2011 non-null   float64\n",
      " 2   Low        2011 non-null   float64\n",
      " 3   Close      2011 non-null   float64\n",
      " 4   Adj Close  2011 non-null   float64\n",
      " 5   Volume     2011 non-null   int64  \n",
      "dtypes: float64(5), int64(1)\n",
      "memory usage: 110.0 KB\n"
     ]
    }
   ],
   "source": [
    "dataset.info()"
   ]
  },
  {
   "cell_type": "markdown",
   "metadata": {},
   "source": [
    "Let's check for duplicates"
   ]
  },
  {
   "cell_type": "code",
   "execution_count": 7,
   "metadata": {},
   "outputs": [
    {
     "data": {
      "text/plain": [
       "0"
      ]
     },
     "execution_count": 7,
     "metadata": {},
     "output_type": "execute_result"
    }
   ],
   "source": [
    "dataset.duplicated().sum()"
   ]
  },
  {
   "cell_type": "markdown",
   "metadata": {},
   "source": [
    "Let's observe the dataset in a plot"
   ]
  },
  {
   "cell_type": "code",
   "execution_count": 8,
   "metadata": {},
   "outputs": [
    {
     "name": "stderr",
     "output_type": "stream",
     "text": [
      "/usr/local/Caskroom/miniconda/base/envs/stock-prediction-env/lib/python3.9/site-packages/seaborn/_oldcore.py:1119: FutureWarning: use_inf_as_na option is deprecated and will be removed in a future version. Convert inf values to NaN before operating instead.\n",
      "  with pd.option_context('mode.use_inf_as_na', True):\n",
      "/usr/local/Caskroom/miniconda/base/envs/stock-prediction-env/lib/python3.9/site-packages/seaborn/_oldcore.py:1119: FutureWarning: use_inf_as_na option is deprecated and will be removed in a future version. Convert inf values to NaN before operating instead.\n",
      "  with pd.option_context('mode.use_inf_as_na', True):\n"
     ]
    },
    {
     "data": {
      "image/png": "[encoded data removed]",
      "text/plain": [
       "<Figure size 1500x500 with 1 Axes>"
      ]
     },
     "metadata": {},
     "output_type": "display_data"
    }
   ],
   "source": [
    "plt.figure(figsize=(15, 5))\n",
    "palette = sns.color_palette(\"husl\", 5)\n",
    "sns.lineplot(data=dataset[['Open', 'High', 'Low', 'Close', 'Adj Close']],palette=palette) \n",
    "plt.title('Stock Price')\n",
    "plt.xlabel('Time [Days]')\n",
    "plt.ylabel('Price')\n",
    "plt.legend(labels=['Open', 'High', 'Low', 'Close', 'Adj Close'], loc='best')\n",
    "plt.show()"
   ]
  },
  {
   "cell_type": "code",
   "execution_count": 9,
   "metadata": {},
   "outputs": [],
   "source": [
    "original_dataset = dataset"
   ]
  },
  {
   "cell_type": "markdown",
   "metadata": {},
   "source": [
    "## Transform the data"
   ]
  },
  {
   "cell_type": "markdown",
   "metadata": {},
   "source": [
    "We normalize the data"
   ]
  },
  {
   "cell_type": "code",
   "execution_count": 10,
   "metadata": {},
   "outputs": [
    {
     "data": {
      "text/html": [
       "<div>\n",
       "<style scoped>\n",
       "    .dataframe tbody tr th:only-of-type {\n",
       "        vertical-align: middle;\n",
       "    }\n",
       "\n",
       "    .dataframe tbody tr th {\n",
       "        vertical-align: top;\n",
       "    }\n",
       "\n",
       "    .dataframe thead th {\n",
       "        text-align: right;\n",
       "    }\n",
       "</style>\n",
       "<table border=\"1\" class=\"dataframe\">\n",
       "  <thead>\n",
       "    <tr style=\"text-align: right;\">\n",
       "      <th></th>\n",
       "      <th>Open</th>\n",
       "      <th>High</th>\n",
       "      <th>Low</th>\n",
       "      <th>Close</th>\n",
       "      <th>Adj Close</th>\n",
       "      <th>Volume</th>\n",
       "    </tr>\n",
       "    <tr>\n",
       "      <th>Date</th>\n",
       "      <th></th>\n",
       "      <th></th>\n",
       "      <th></th>\n",
       "      <th></th>\n",
       "      <th></th>\n",
       "      <th></th>\n",
       "    </tr>\n",
       "  </thead>\n",
       "  <tbody>\n",
       "    <tr>\n",
       "      <th>2016-03-28</th>\n",
       "      <td>0.013888</td>\n",
       "      <td>0.013467</td>\n",
       "      <td>0.013953</td>\n",
       "      <td>53.540001</td>\n",
       "      <td>0.011049</td>\n",
       "      <td>0.076140</td>\n",
       "    </tr>\n",
       "    <tr>\n",
       "      <th>2016-03-29</th>\n",
       "      <td>0.012444</td>\n",
       "      <td>0.014961</td>\n",
       "      <td>0.014270</td>\n",
       "      <td>54.709999</td>\n",
       "      <td>0.013758</td>\n",
       "      <td>0.130862</td>\n",
       "    </tr>\n",
       "    <tr>\n",
       "      <th>2016-03-30</th>\n",
       "      <td>0.015778</td>\n",
       "      <td>0.017004</td>\n",
       "      <td>0.018095</td>\n",
       "      <td>55.049999</td>\n",
       "      <td>0.014545</td>\n",
       "      <td>0.123596</td>\n",
       "    </tr>\n",
       "    <tr>\n",
       "      <th>2016-03-31</th>\n",
       "      <td>0.015831</td>\n",
       "      <td>0.016873</td>\n",
       "      <td>0.017989</td>\n",
       "      <td>55.230000</td>\n",
       "      <td>0.014962</td>\n",
       "      <td>0.150185</td>\n",
       "    </tr>\n",
       "    <tr>\n",
       "      <th>2016-04-01</th>\n",
       "      <td>0.016093</td>\n",
       "      <td>0.016926</td>\n",
       "      <td>0.017224</td>\n",
       "      <td>55.570000</td>\n",
       "      <td>0.015750</td>\n",
       "      <td>0.134628</td>\n",
       "    </tr>\n",
       "  </tbody>\n",
       "</table>\n",
       "</div>"
      ],
      "text/plain": [
       "                Open      High       Low      Close  Adj Close    Volume\n",
       "Date                                                                    \n",
       "2016-03-28  0.013888  0.013467  0.013953  53.540001   0.011049  0.076140\n",
       "2016-03-29  0.012444  0.014961  0.014270  54.709999   0.013758  0.130862\n",
       "2016-03-30  0.015778  0.017004  0.018095  55.049999   0.014545  0.123596\n",
       "2016-03-31  0.015831  0.016873  0.017989  55.230000   0.014962  0.150185\n",
       "2016-04-01  0.016093  0.016926  0.017224  55.570000   0.015750  0.134628"
      ]
     },
     "execution_count": 10,
     "metadata": {},
     "output_type": "execute_result"
    }
   ],
   "source": [
    "scaler = MinMaxScaler()\n",
    "columns_to_normalize = ['Open', 'High', 'Low', 'Adj Close', 'Volume']\n",
    "dataset[columns_to_normalize] = scaler.fit_transform(dataset[columns_to_normalize])\n",
    "\n",
    "dataset.head()\n"
   ]
  },
  {
   "cell_type": "code",
   "execution_count": 11,
   "metadata": {},
   "outputs": [],
   "source": [
    "close_scaler = MinMaxScaler()\n",
    "columns_to_normalize = ['Close']\n",
    "dataset[columns_to_normalize] = close_scaler.fit_transform(dataset[columns_to_normalize])\n"
   ]
  },
  {
   "cell_type": "markdown",
   "metadata": {},
   "source": [
    "Splitting the data\n",
    "X_train, y_train: Training set, used to train your model.\n",
    "X_val, y_val: Validation set, used to evaluate model performance during training.\n",
    "X_test, y_test: Test set, used to evaluate the final performance of your trained model."
   ]
  },
  {
   "cell_type": "code",
   "execution_count": 12,
   "metadata": {},
   "outputs": [],
   "source": [
    "X = dataset[['Open', 'High', 'Low', 'Adj Close']]\n",
    "y = dataset[['Close']]\n",
    "\n",
    "\n",
    "X_train, X_val_test, y_train, y_val_test = train_test_split(X, y, test_size=0.2, shuffle=False)\n",
    "X_val, X_test, y_val, y_test = train_test_split(X_val_test, y_val_test, test_size=0.5, shuffle=False)"
   ]
  },
  {
   "cell_type": "markdown",
   "metadata": {},
   "source": [
    "We sets the number of time steps to 10, meaning each sequence will contain 10 data points.\n",
    "X_train_seq, y_train_seq = create_time_steps(X_train, time_steps): This creates sequences for the training data (X_train_seq contains input sequences, and y_train_seq contains corresponding labels).\n",
    "X_val_seq, y_val_seq = create_time_steps(X_val, time_steps): This creates sequences for the validation data.\n",
    "X_test_seq, y_test_seq = create_time_steps(X_test, time_steps): This creates sequences for the test data."
   ]
  },
  {
   "cell_type": "code",
   "execution_count": 13,
   "metadata": {},
   "outputs": [],
   "source": [
    "def create_time_steps(data, time_steps):\n",
    "    X = []\n",
    "    y = []\n",
    "    for i in range(len(data) - time_steps):\n",
    "        X.append(data.iloc[i:i+time_steps])\n",
    "        y.append(data.iloc[i+time_steps])\n",
    "    return np.array(X), np.array(y)\n",
    "\n",
    "# Define the number of time steps\n",
    "time_steps = 10\n",
    "\n",
    "# Create time steps sequences for training data\n",
    "X_train_seq, y_train_seq = create_time_steps(X_train, time_steps)\n",
    "\n",
    "# Create time steps sequences for validation data\n",
    "X_val_seq, y_val_seq = create_time_steps(X_val, time_steps)\n",
    "\n",
    "# Create time steps sequences for test data\n",
    "X_test_seq, y_test_seq = create_time_steps(X_test, time_steps)\n"
   ]
  },
  {
   "cell_type": "code",
   "execution_count": 14,
   "metadata": {},
   "outputs": [
    {
     "data": {
      "text/plain": [
       "(192, 10, 4)"
      ]
     },
     "execution_count": 14,
     "metadata": {},
     "output_type": "execute_result"
    }
   ],
   "source": [
    "X_test_seq.shape"
   ]
  },
  {
   "cell_type": "markdown",
   "metadata": {},
   "source": [
    "## Create Model RNN Sequential LSTM"
   ]
  },
  {
   "cell_type": "markdown",
   "metadata": {},
   "source": [
    "We create a sequential model using an LSTM layer followed by a Dense output layer\n",
    "we are predicting the future value of the 'Close' price of a stock based on past values of the 'Open', 'High', 'Low', and 'Adj Close' prices.\n",
    "\n",
    "Input: Each input sequence consists of past values of 'Open', 'High', 'Low', and 'Adj Close' prices, represented as a sequence of 10 time steps.\n",
    "Output: The model is trained to predict the next value of the 'Close' price following the input sequence."
   ]
  },
  {
   "cell_type": "code",
   "execution_count": 15,
   "metadata": {},
   "outputs": [],
   "source": [
    "model = Sequential([\n",
    "    LSTM(units=128, activation='relu', input_shape=(time_steps , 4)),   \n",
    "    Dense(units=1)  \n",
    "    \n",
    "])"
   ]
  },
  {
   "cell_type": "markdown",
   "metadata": {},
   "source": [
    "Define the optimizer and compile the model"
   ]
  },
  {
   "cell_type": "code",
   "execution_count": 16,
   "metadata": {},
   "outputs": [],
   "source": [
    "opt = Adam(learning_rate=0.001)  # Adjust learning rate if necessary\n",
    "model.compile(optimizer=opt, loss='mean_squared_error')\n",
    "\n",
    "# Define a learning rate scheduler\n",
    "def lr_scheduler(epoch, lr):\n",
    "    if epoch % 15 == 0 and epoch != 0:\n",
    "        lr = lr * 0.9  # Decrease learning rate by 10% every 10 epochs\n",
    "    return lr\n",
    "\n",
    "lr_callback = LearningRateScheduler(lr_scheduler)"
   ]
  },
  {
   "cell_type": "markdown",
   "metadata": {},
   "source": [
    "We train the model :\n",
    "X_train_seq: This is the input data that we use to train your model. Here X_train_seq contains sequences of past values of 'Open', 'High', 'Low', and 'Adj Close' prices, and each sequence has a length of 10 time steps.\n",
    "y_train_seq: This is the target data that we try to predict during training. In this case, y_train_seq contains the next value of the 'Close' price corresponding to each sequence in X_train_seq."
   ]
  },
  {
   "cell_type": "code",
   "execution_count": 17,
   "metadata": {},
   "outputs": [
    {
     "name": "stdout",
     "output_type": "stream",
     "text": [
      "Epoch 1/100\n"
     ]
    },
    {
     "name": "stdout",
     "output_type": "stream",
     "text": [
      "50/50 [==============================] - 3s 14ms/step - loss: 0.0137 - val_loss: 4.0134e-04 - lr: 0.0010\n",
      "Epoch 2/100\n",
      "50/50 [==============================] - 0s 8ms/step - loss: 1.8255e-04 - val_loss: 3.8890e-04 - lr: 0.0010\n",
      "Epoch 3/100\n",
      "50/50 [==============================] - 0s 7ms/step - loss: 1.5750e-04 - val_loss: 4.0788e-04 - lr: 0.0010\n",
      "Epoch 4/100\n",
      "50/50 [==============================] - 0s 7ms/step - loss: 1.4888e-04 - val_loss: 4.3633e-04 - lr: 0.0010\n",
      "Epoch 5/100\n",
      "50/50 [==============================] - 0s 7ms/step - loss: 1.4428e-04 - val_loss: 3.8491e-04 - lr: 0.0010\n",
      "Epoch 6/100\n",
      "50/50 [==============================] - 0s 7ms/step - loss: 1.4535e-04 - val_loss: 4.4537e-04 - lr: 0.0010\n",
      "Epoch 7/100\n",
      "50/50 [==============================] - 0s 7ms/step - loss: 1.5084e-04 - val_loss: 4.1847e-04 - lr: 0.0010\n",
      "Epoch 8/100\n",
      "50/50 [==============================] - 0s 7ms/step - loss: 1.4187e-04 - val_loss: 3.6506e-04 - lr: 0.0010\n",
      "Epoch 9/100\n",
      "50/50 [==============================] - 0s 8ms/step - loss: 1.3824e-04 - val_loss: 3.6231e-04 - lr: 0.0010\n",
      "Epoch 10/100\n",
      "50/50 [==============================] - 0s 7ms/step - loss: 1.3100e-04 - val_loss: 3.5143e-04 - lr: 0.0010\n",
      "Epoch 11/100\n",
      "50/50 [==============================] - 0s 7ms/step - loss: 1.3841e-04 - val_loss: 3.5379e-04 - lr: 0.0010\n",
      "Epoch 12/100\n",
      "50/50 [==============================] - 0s 7ms/step - loss: 1.2473e-04 - val_loss: 3.4003e-04 - lr: 0.0010\n",
      "Epoch 13/100\n",
      "50/50 [==============================] - 0s 7ms/step - loss: 1.2527e-04 - val_loss: 3.5356e-04 - lr: 0.0010\n",
      "Epoch 14/100\n",
      "50/50 [==============================] - 0s 7ms/step - loss: 1.2900e-04 - val_loss: 3.2679e-04 - lr: 0.0010\n",
      "Epoch 15/100\n",
      "50/50 [==============================] - 0s 7ms/step - loss: 1.2370e-04 - val_loss: 3.1538e-04 - lr: 0.0010\n",
      "Epoch 16/100\n",
      "50/50 [==============================] - 0s 8ms/step - loss: 1.1719e-04 - val_loss: 3.1269e-04 - lr: 9.0000e-04\n",
      "Epoch 17/100\n",
      "50/50 [==============================] - 0s 7ms/step - loss: 1.1436e-04 - val_loss: 3.2130e-04 - lr: 9.0000e-04\n",
      "Epoch 18/100\n",
      "50/50 [==============================] - 0s 7ms/step - loss: 1.1098e-04 - val_loss: 3.4261e-04 - lr: 9.0000e-04\n",
      "Epoch 19/100\n",
      "50/50 [==============================] - 0s 7ms/step - loss: 1.1703e-04 - val_loss: 2.9140e-04 - lr: 9.0000e-04\n",
      "Epoch 20/100\n",
      "50/50 [==============================] - 0s 7ms/step - loss: 1.0625e-04 - val_loss: 3.7002e-04 - lr: 9.0000e-04\n",
      "Epoch 21/100\n",
      "50/50 [==============================] - 0s 7ms/step - loss: 1.0436e-04 - val_loss: 2.7415e-04 - lr: 9.0000e-04\n",
      "Epoch 22/100\n",
      "50/50 [==============================] - 0s 7ms/step - loss: 1.1290e-04 - val_loss: 2.7153e-04 - lr: 9.0000e-04\n",
      "Epoch 23/100\n",
      "50/50 [==============================] - 0s 7ms/step - loss: 1.0531e-04 - val_loss: 2.7038e-04 - lr: 9.0000e-04\n",
      "Epoch 24/100\n",
      "50/50 [==============================] - 0s 8ms/step - loss: 1.0287e-04 - val_loss: 3.5823e-04 - lr: 9.0000e-04\n",
      "Epoch 25/100\n",
      "50/50 [==============================] - 0s 7ms/step - loss: 1.0577e-04 - val_loss: 2.5559e-04 - lr: 9.0000e-04\n",
      "Epoch 26/100\n",
      "50/50 [==============================] - 0s 7ms/step - loss: 1.0453e-04 - val_loss: 3.1192e-04 - lr: 9.0000e-04\n",
      "Epoch 27/100\n",
      "50/50 [==============================] - 0s 7ms/step - loss: 1.0354e-04 - val_loss: 2.7841e-04 - lr: 9.0000e-04\n",
      "Epoch 28/100\n",
      "50/50 [==============================] - 0s 7ms/step - loss: 9.5152e-05 - val_loss: 2.5136e-04 - lr: 9.0000e-04\n",
      "Epoch 29/100\n",
      "50/50 [==============================] - 0s 7ms/step - loss: 9.5164e-05 - val_loss: 2.5625e-04 - lr: 9.0000e-04\n",
      "Epoch 30/100\n",
      "50/50 [==============================] - 0s 7ms/step - loss: 1.0326e-04 - val_loss: 2.5117e-04 - lr: 9.0000e-04\n",
      "Epoch 31/100\n",
      "50/50 [==============================] - 0s 7ms/step - loss: 9.5389e-05 - val_loss: 2.8819e-04 - lr: 8.1000e-04\n",
      "Epoch 32/100\n",
      "50/50 [==============================] - 0s 7ms/step - loss: 1.1300e-04 - val_loss: 2.3354e-04 - lr: 8.1000e-04\n",
      "Epoch 33/100\n",
      "50/50 [==============================] - 0s 7ms/step - loss: 8.6171e-05 - val_loss: 2.3018e-04 - lr: 8.1000e-04\n",
      "Epoch 34/100\n",
      "50/50 [==============================] - 0s 7ms/step - loss: 8.5414e-05 - val_loss: 2.3404e-04 - lr: 8.1000e-04\n",
      "Epoch 35/100\n",
      "50/50 [==============================] - 0s 7ms/step - loss: 9.0698e-05 - val_loss: 2.5574e-04 - lr: 8.1000e-04\n",
      "Epoch 36/100\n",
      "50/50 [==============================] - 0s 7ms/step - loss: 8.7901e-05 - val_loss: 2.3126e-04 - lr: 8.1000e-04\n",
      "Epoch 37/100\n",
      "50/50 [==============================] - 0s 8ms/step - loss: 8.4204e-05 - val_loss: 2.4511e-04 - lr: 8.1000e-04\n",
      "Epoch 38/100\n",
      "50/50 [==============================] - 0s 7ms/step - loss: 8.2815e-05 - val_loss: 2.2535e-04 - lr: 8.1000e-04\n",
      "Epoch 39/100\n",
      "50/50 [==============================] - 0s 7ms/step - loss: 8.5855e-05 - val_loss: 2.2641e-04 - lr: 8.1000e-04\n",
      "Epoch 40/100\n",
      "50/50 [==============================] - 0s 9ms/step - loss: 9.4061e-05 - val_loss: 2.0875e-04 - lr: 8.1000e-04\n",
      "Epoch 41/100\n",
      "50/50 [==============================] - 0s 7ms/step - loss: 8.1951e-05 - val_loss: 2.1173e-04 - lr: 8.1000e-04\n",
      "Epoch 42/100\n",
      "50/50 [==============================] - 0s 8ms/step - loss: 8.2083e-05 - val_loss: 2.9188e-04 - lr: 8.1000e-04\n",
      "Epoch 43/100\n",
      "50/50 [==============================] - 0s 7ms/step - loss: 8.1943e-05 - val_loss: 2.1782e-04 - lr: 8.1000e-04\n",
      "Epoch 44/100\n",
      "50/50 [==============================] - 0s 7ms/step - loss: 8.1918e-05 - val_loss: 2.0129e-04 - lr: 8.1000e-04\n",
      "Epoch 45/100\n",
      "50/50 [==============================] - 0s 7ms/step - loss: 8.2683e-05 - val_loss: 2.1125e-04 - lr: 8.1000e-04\n",
      "Epoch 46/100\n",
      "50/50 [==============================] - 0s 7ms/step - loss: 7.7902e-05 - val_loss: 1.9923e-04 - lr: 7.2900e-04\n",
      "Epoch 47/100\n",
      "50/50 [==============================] - 0s 7ms/step - loss: 8.0940e-05 - val_loss: 2.0386e-04 - lr: 7.2900e-04\n",
      "Epoch 48/100\n",
      "50/50 [==============================] - 0s 7ms/step - loss: 8.3819e-05 - val_loss: 1.9857e-04 - lr: 7.2900e-04\n",
      "Epoch 49/100\n",
      "50/50 [==============================] - 0s 7ms/step - loss: 7.5353e-05 - val_loss: 1.9702e-04 - lr: 7.2900e-04\n",
      "Epoch 50/100\n",
      "50/50 [==============================] - 0s 7ms/step - loss: 7.5873e-05 - val_loss: 1.9089e-04 - lr: 7.2900e-04\n",
      "Epoch 51/100\n",
      "50/50 [==============================] - 0s 7ms/step - loss: 7.3730e-05 - val_loss: 1.9312e-04 - lr: 7.2900e-04\n",
      "Epoch 52/100\n",
      "50/50 [==============================] - 0s 7ms/step - loss: 7.4386e-05 - val_loss: 1.8800e-04 - lr: 7.2900e-04\n",
      "Epoch 53/100\n",
      "50/50 [==============================] - 0s 7ms/step - loss: 7.3819e-05 - val_loss: 1.9139e-04 - lr: 7.2900e-04\n",
      "Epoch 54/100\n",
      "50/50 [==============================] - 0s 8ms/step - loss: 7.8226e-05 - val_loss: 2.1265e-04 - lr: 7.2900e-04\n",
      "Epoch 55/100\n",
      "50/50 [==============================] - 0s 7ms/step - loss: 7.9529e-05 - val_loss: 2.0734e-04 - lr: 7.2900e-04\n",
      "Epoch 56/100\n",
      "50/50 [==============================] - 0s 7ms/step - loss: 7.7246e-05 - val_loss: 1.8380e-04 - lr: 7.2900e-04\n",
      "Epoch 57/100\n",
      "50/50 [==============================] - 0s 7ms/step - loss: 7.2423e-05 - val_loss: 1.8257e-04 - lr: 7.2900e-04\n",
      "Epoch 58/100\n",
      "50/50 [==============================] - 0s 7ms/step - loss: 7.1832e-05 - val_loss: 1.9523e-04 - lr: 7.2900e-04\n",
      "Epoch 59/100\n",
      "50/50 [==============================] - 0s 7ms/step - loss: 7.7944e-05 - val_loss: 1.7943e-04 - lr: 7.2900e-04\n",
      "Epoch 60/100\n",
      "50/50 [==============================] - 0s 7ms/step - loss: 8.0452e-05 - val_loss: 2.1115e-04 - lr: 7.2900e-04\n",
      "Epoch 61/100\n",
      "50/50 [==============================] - 0s 7ms/step - loss: 7.3894e-05 - val_loss: 1.8190e-04 - lr: 6.5610e-04\n",
      "Epoch 62/100\n",
      "50/50 [==============================] - 0s 9ms/step - loss: 6.9267e-05 - val_loss: 1.7614e-04 - lr: 6.5610e-04\n",
      "Epoch 63/100\n",
      "50/50 [==============================] - 0s 7ms/step - loss: 7.2664e-05 - val_loss: 2.3255e-04 - lr: 6.5610e-04\n",
      "Epoch 64/100\n",
      "50/50 [==============================] - 0s 7ms/step - loss: 6.9469e-05 - val_loss: 1.7249e-04 - lr: 6.5610e-04\n",
      "Epoch 65/100\n",
      "50/50 [==============================] - 0s 7ms/step - loss: 7.6266e-05 - val_loss: 2.0272e-04 - lr: 6.5610e-04\n",
      "Epoch 66/100\n",
      "50/50 [==============================] - 0s 7ms/step - loss: 6.9930e-05 - val_loss: 1.9002e-04 - lr: 6.5610e-04\n",
      "Epoch 67/100\n",
      "50/50 [==============================] - 0s 7ms/step - loss: 6.7239e-05 - val_loss: 1.8524e-04 - lr: 6.5610e-04\n",
      "Epoch 68/100\n",
      "50/50 [==============================] - 0s 7ms/step - loss: 6.8857e-05 - val_loss: 1.7228e-04 - lr: 6.5610e-04\n",
      "Epoch 69/100\n",
      "50/50 [==============================] - 0s 7ms/step - loss: 6.7535e-05 - val_loss: 1.6634e-04 - lr: 6.5610e-04\n",
      "Epoch 70/100\n",
      "50/50 [==============================] - 0s 7ms/step - loss: 7.0394e-05 - val_loss: 1.6465e-04 - lr: 6.5610e-04\n",
      "Epoch 71/100\n",
      "50/50 [==============================] - 0s 7ms/step - loss: 7.0494e-05 - val_loss: 1.8282e-04 - lr: 6.5610e-04\n",
      "Epoch 72/100\n",
      "50/50 [==============================] - 0s 7ms/step - loss: 7.3805e-05 - val_loss: 1.6403e-04 - lr: 6.5610e-04\n",
      "Epoch 73/100\n",
      "50/50 [==============================] - 0s 8ms/step - loss: 6.4534e-05 - val_loss: 1.6275e-04 - lr: 6.5610e-04\n",
      "Epoch 74/100\n",
      "50/50 [==============================] - 0s 7ms/step - loss: 7.1222e-05 - val_loss: 1.7168e-04 - lr: 6.5610e-04\n",
      "Epoch 75/100\n",
      "50/50 [==============================] - 0s 7ms/step - loss: 6.5774e-05 - val_loss: 1.9425e-04 - lr: 6.5610e-04\n",
      "Epoch 76/100\n",
      "50/50 [==============================] - 0s 7ms/step - loss: 6.7750e-05 - val_loss: 1.6197e-04 - lr: 5.9049e-04\n",
      "Epoch 77/100\n",
      "50/50 [==============================] - 0s 7ms/step - loss: 6.3107e-05 - val_loss: 1.5889e-04 - lr: 5.9049e-04\n",
      "Epoch 78/100\n",
      "50/50 [==============================] - 0s 8ms/step - loss: 6.9195e-05 - val_loss: 1.9893e-04 - lr: 5.9049e-04\n",
      "Epoch 79/100\n",
      "50/50 [==============================] - 0s 9ms/step - loss: 6.7989e-05 - val_loss: 1.6713e-04 - lr: 5.9049e-04\n",
      "Epoch 80/100\n",
      "50/50 [==============================] - 0s 7ms/step - loss: 6.5986e-05 - val_loss: 1.9389e-04 - lr: 5.9049e-04\n",
      "Epoch 81/100\n",
      "50/50 [==============================] - 0s 7ms/step - loss: 7.1838e-05 - val_loss: 1.5999e-04 - lr: 5.9049e-04\n",
      "Epoch 82/100\n",
      "50/50 [==============================] - 0s 7ms/step - loss: 6.6576e-05 - val_loss: 1.5653e-04 - lr: 5.9049e-04\n",
      "Epoch 83/100\n",
      "50/50 [==============================] - 0s 7ms/step - loss: 6.5421e-05 - val_loss: 1.5876e-04 - lr: 5.9049e-04\n",
      "Epoch 84/100\n",
      "50/50 [==============================] - 0s 7ms/step - loss: 6.1440e-05 - val_loss: 1.5408e-04 - lr: 5.9049e-04\n",
      "Epoch 85/100\n",
      "50/50 [==============================] - 0s 7ms/step - loss: 6.5227e-05 - val_loss: 1.8125e-04 - lr: 5.9049e-04\n",
      "Epoch 86/100\n",
      "50/50 [==============================] - 0s 7ms/step - loss: 6.8063e-05 - val_loss: 1.6653e-04 - lr: 5.9049e-04\n",
      "Epoch 87/100\n",
      "50/50 [==============================] - 0s 7ms/step - loss: 6.3714e-05 - val_loss: 1.5361e-04 - lr: 5.9049e-04\n",
      "Epoch 88/100\n",
      "50/50 [==============================] - 0s 7ms/step - loss: 6.3204e-05 - val_loss: 1.5173e-04 - lr: 5.9049e-04\n",
      "Epoch 89/100\n",
      "50/50 [==============================] - 0s 7ms/step - loss: 6.1560e-05 - val_loss: 1.5755e-04 - lr: 5.9049e-04\n",
      "Epoch 90/100\n",
      "50/50 [==============================] - 0s 7ms/step - loss: 6.2502e-05 - val_loss: 1.5100e-04 - lr: 5.9049e-04\n",
      "Epoch 91/100\n",
      "50/50 [==============================] - 0s 7ms/step - loss: 6.2262e-05 - val_loss: 2.0505e-04 - lr: 5.3144e-04\n",
      "Epoch 92/100\n",
      "50/50 [==============================] - 0s 7ms/step - loss: 6.2808e-05 - val_loss: 1.5150e-04 - lr: 5.3144e-04\n",
      "Epoch 93/100\n",
      "50/50 [==============================] - 0s 7ms/step - loss: 6.0648e-05 - val_loss: 1.5324e-04 - lr: 5.3144e-04\n",
      "Epoch 94/100\n",
      "50/50 [==============================] - 0s 7ms/step - loss: 5.9678e-05 - val_loss: 1.5576e-04 - lr: 5.3144e-04\n",
      "Epoch 95/100\n",
      "50/50 [==============================] - 0s 8ms/step - loss: 6.5983e-05 - val_loss: 2.0223e-04 - lr: 5.3144e-04\n",
      "Epoch 96/100\n",
      "50/50 [==============================] - 0s 7ms/step - loss: 6.6081e-05 - val_loss: 1.6635e-04 - lr: 5.3144e-04\n",
      "Epoch 97/100\n",
      "50/50 [==============================] - 0s 7ms/step - loss: 6.1618e-05 - val_loss: 1.5758e-04 - lr: 5.3144e-04\n",
      "Epoch 98/100\n",
      "50/50 [==============================] - 0s 7ms/step - loss: 6.0409e-05 - val_loss: 1.4866e-04 - lr: 5.3144e-04\n",
      "Epoch 99/100\n",
      "50/50 [==============================] - 0s 7ms/step - loss: 6.1253e-05 - val_loss: 1.5288e-04 - lr: 5.3144e-04\n",
      "Epoch 100/100\n",
      "50/50 [==============================] - 0s 8ms/step - loss: 6.2234e-05 - val_loss: 1.4966e-04 - lr: 5.3144e-04\n"
     ]
    }
   ],
   "source": [
    "history = model.fit(X_train_seq, y_train_seq, epochs=100, validation_data=(X_val_seq, y_val_seq), callbacks=[lr_callback])\n"
   ]
  },
  {
   "cell_type": "code",
   "execution_count": 18,
   "metadata": {},
   "outputs": [
    {
     "name": "stdout",
     "output_type": "stream",
     "text": [
      "6/6 [==============================] - 0s 3ms/step\n",
      "6/6 [==============================] - 0s 3ms/step\n"
     ]
    }
   ],
   "source": [
    "validation_prediction=model.predict(X_val_seq)\n",
    "test_predict=model.predict(X_test_seq)"
   ]
  },
  {
   "cell_type": "markdown",
   "metadata": {},
   "source": [
    "We scale the prediction to initial values"
   ]
  },
  {
   "cell_type": "code",
   "execution_count": 19,
   "metadata": {},
   "outputs": [],
   "source": [
    "y_valid_inversed = close_scaler.inverse_transform(validation_prediction)\n",
    "y_test_inversed = close_scaler.inverse_transform(test_predict)"
   ]
  },
  {
   "cell_type": "code",
   "execution_count": 20,
   "metadata": {},
   "outputs": [],
   "source": [
    "y_test_original = close_scaler.inverse_transform(y_test)"
   ]
  },
  {
   "cell_type": "markdown",
   "metadata": {},
   "source": [
    "We plot the prediction and the initial data"
   ]
  },
  {
   "cell_type": "code",
   "execution_count": 21,
   "metadata": {},
   "outputs": [
    {
     "data": {
      "image/png": "[encoded data removed]",
      "text/plain": [
       "<Figure size 640x480 with 1 Axes>"
      ]
     },
     "metadata": {},
     "output_type": "display_data"
    }
   ],
   "source": [
    "import numpy as np\n",
    "import matplotlib.pyplot as plt\n",
    "\n",
    "# Assuming you have defined y_train, y_test, validation_prediction, and test_predict\n",
    "\n",
    "# Calculate the starting index for test data in the x-axis\n",
    "start_index = y_train.shape[0] + y_val.shape[0]\n",
    "end_index_first_plot = start_index + y_test.shape[0]\n",
    "x_values_second_plot = np.arange(end_index_first_plot - test_predict.shape[0]-1, end_index_first_plot-1)\n",
    "\n",
    "\n",
    "# Plotting\n",
    "plt.plot(np.arange(start_index, start_index + y_test.shape[0]),\n",
    "         y_test_original, color='black', label='test target')\n",
    "\n",
    "plt.plot(x_values_second_plot,\n",
    "         y_test_inversed, color='green', label='test prediction')\n",
    "\n",
    "plt.title('Future Stock Prices')\n",
    "plt.xlabel('Time [Days]')\n",
    "plt.ylabel('Normalized Price')\n",
    "plt.legend(loc='best')\n",
    "\n",
    "plt.show()\n"
   ]
  },
  {
   "cell_type": "markdown",
   "metadata": {},
   "source": [
    "## GRU model"
   ]
  },
  {
   "cell_type": "markdown",
   "metadata": {},
   "source": [
    "We will create a GRU model to see how it will perform"
   ]
  },
  {
   "cell_type": "code",
   "execution_count": 22,
   "metadata": {},
   "outputs": [],
   "source": [
    "gru_model = Sequential([\n",
    "    GRU(units=128, activation='relu', input_shape=(time_steps, 4)),\n",
    "    #Dropout(0.2),  # Dropout layer for regularization\n",
    "    Dense(units=1)  # Output layer for regression task\n",
    "])"
   ]
  },
  {
   "cell_type": "markdown",
   "metadata": {},
   "source": [
    "Define optimizer and compile the model"
   ]
  },
  {
   "cell_type": "code",
   "execution_count": 23,
   "metadata": {},
   "outputs": [],
   "source": [
    "opt = Adam(learning_rate=0.001)  # Adjust learning rate if necessary\n",
    "gru_model.compile(optimizer=opt, loss='mean_squared_error')\n",
    "\n",
    "# Define a learning rate scheduler\n",
    "def lr_scheduler(epoch, lr):\n",
    "    if epoch % 10 == 0 and epoch != 0:\n",
    "        lr = lr * 0.9  # Decrease learning rate by 10% every 10 epochs\n",
    "    return lr\n",
    "\n",
    "lr_callback = LearningRateScheduler(lr_scheduler)"
   ]
  },
  {
   "cell_type": "markdown",
   "metadata": {},
   "source": [
    "Model training"
   ]
  },
  {
   "cell_type": "code",
   "execution_count": 24,
   "metadata": {},
   "outputs": [
    {
     "name": "stdout",
     "output_type": "stream",
     "text": [
      "Epoch 1/100\n"
     ]
    },
    {
     "name": "stdout",
     "output_type": "stream",
     "text": [
      "50/50 [==============================] - 2s 12ms/step - loss: 0.0201 - val_loss: 2.6670e-04 - lr: 0.0010\n",
      "Epoch 2/100\n",
      "50/50 [==============================] - 0s 7ms/step - loss: 1.0780e-04 - val_loss: 2.7023e-04 - lr: 0.0010\n",
      "Epoch 3/100\n",
      "50/50 [==============================] - 0s 7ms/step - loss: 9.7992e-05 - val_loss: 2.8207e-04 - lr: 0.0010\n",
      "Epoch 4/100\n",
      "50/50 [==============================] - 0s 7ms/step - loss: 9.5192e-05 - val_loss: 2.5838e-04 - lr: 0.0010\n",
      "Epoch 5/100\n",
      "50/50 [==============================] - 0s 7ms/step - loss: 9.5226e-05 - val_loss: 2.5261e-04 - lr: 0.0010\n",
      "Epoch 6/100\n",
      "50/50 [==============================] - 0s 7ms/step - loss: 9.4881e-05 - val_loss: 2.4868e-04 - lr: 0.0010\n",
      "Epoch 7/100\n",
      "50/50 [==============================] - 0s 8ms/step - loss: 9.8872e-05 - val_loss: 2.7837e-04 - lr: 0.0010\n",
      "Epoch 8/100\n",
      "50/50 [==============================] - 0s 7ms/step - loss: 9.3906e-05 - val_loss: 2.4182e-04 - lr: 0.0010\n",
      "Epoch 9/100\n",
      "50/50 [==============================] - 0s 7ms/step - loss: 9.0779e-05 - val_loss: 2.3421e-04 - lr: 0.0010\n",
      "Epoch 10/100\n",
      "50/50 [==============================] - 0s 7ms/step - loss: 8.8952e-05 - val_loss: 2.7066e-04 - lr: 0.0010\n",
      "Epoch 11/100\n",
      "50/50 [==============================] - 0s 7ms/step - loss: 8.8963e-05 - val_loss: 2.4253e-04 - lr: 9.0000e-04\n",
      "Epoch 12/100\n",
      "50/50 [==============================] - 0s 7ms/step - loss: 8.4767e-05 - val_loss: 2.2799e-04 - lr: 9.0000e-04\n",
      "Epoch 13/100\n",
      "50/50 [==============================] - 0s 7ms/step - loss: 8.6484e-05 - val_loss: 2.3068e-04 - lr: 9.0000e-04\n",
      "Epoch 14/100\n",
      "50/50 [==============================] - 0s 7ms/step - loss: 8.3628e-05 - val_loss: 2.2175e-04 - lr: 9.0000e-04\n",
      "Epoch 15/100\n",
      "50/50 [==============================] - 0s 7ms/step - loss: 8.8458e-05 - val_loss: 2.1868e-04 - lr: 9.0000e-04\n",
      "Epoch 16/100\n",
      "50/50 [==============================] - 0s 7ms/step - loss: 8.6272e-05 - val_loss: 2.1880e-04 - lr: 9.0000e-04\n",
      "Epoch 17/100\n",
      "50/50 [==============================] - 0s 7ms/step - loss: 9.3660e-05 - val_loss: 2.3008e-04 - lr: 9.0000e-04\n",
      "Epoch 18/100\n",
      "50/50 [==============================] - 0s 7ms/step - loss: 8.5348e-05 - val_loss: 2.1492e-04 - lr: 9.0000e-04\n",
      "Epoch 19/100\n",
      "50/50 [==============================] - 0s 7ms/step - loss: 8.1895e-05 - val_loss: 2.1010e-04 - lr: 9.0000e-04\n",
      "Epoch 20/100\n",
      "50/50 [==============================] - 0s 10ms/step - loss: 8.1093e-05 - val_loss: 2.0892e-04 - lr: 9.0000e-04\n",
      "Epoch 21/100\n",
      "50/50 [==============================] - 1s 10ms/step - loss: 7.8513e-05 - val_loss: 2.1339e-04 - lr: 8.1000e-04\n",
      "Epoch 22/100\n",
      "50/50 [==============================] - 1s 11ms/step - loss: 8.2128e-05 - val_loss: 2.0747e-04 - lr: 8.1000e-04\n",
      "Epoch 23/100\n",
      "50/50 [==============================] - 0s 7ms/step - loss: 8.1364e-05 - val_loss: 2.8524e-04 - lr: 8.1000e-04\n",
      "Epoch 24/100\n",
      "50/50 [==============================] - 0s 7ms/step - loss: 8.2528e-05 - val_loss: 2.1082e-04 - lr: 8.1000e-04\n",
      "Epoch 25/100\n",
      "50/50 [==============================] - 0s 7ms/step - loss: 7.8871e-05 - val_loss: 2.1574e-04 - lr: 8.1000e-04\n",
      "Epoch 26/100\n",
      "50/50 [==============================] - 0s 7ms/step - loss: 7.5233e-05 - val_loss: 2.0919e-04 - lr: 8.1000e-04\n",
      "Epoch 27/100\n",
      "50/50 [==============================] - 0s 7ms/step - loss: 7.5641e-05 - val_loss: 2.0091e-04 - lr: 8.1000e-04\n",
      "Epoch 28/100\n",
      "50/50 [==============================] - 0s 7ms/step - loss: 7.8256e-05 - val_loss: 2.2130e-04 - lr: 8.1000e-04\n",
      "Epoch 29/100\n",
      "50/50 [==============================] - 0s 7ms/step - loss: 8.5943e-05 - val_loss: 2.0442e-04 - lr: 8.1000e-04\n",
      "Epoch 30/100\n",
      "50/50 [==============================] - 0s 7ms/step - loss: 8.2355e-05 - val_loss: 1.9542e-04 - lr: 8.1000e-04\n",
      "Epoch 31/100\n",
      "50/50 [==============================] - 0s 7ms/step - loss: 7.3457e-05 - val_loss: 1.9427e-04 - lr: 7.2900e-04\n",
      "Epoch 32/100\n",
      "50/50 [==============================] - 0s 7ms/step - loss: 7.4465e-05 - val_loss: 1.9511e-04 - lr: 7.2900e-04\n",
      "Epoch 33/100\n",
      "50/50 [==============================] - 0s 7ms/step - loss: 7.5024e-05 - val_loss: 1.9715e-04 - lr: 7.2900e-04\n",
      "Epoch 34/100\n",
      "50/50 [==============================] - 0s 7ms/step - loss: 7.5040e-05 - val_loss: 2.0250e-04 - lr: 7.2900e-04\n",
      "Epoch 35/100\n",
      "50/50 [==============================] - 0s 7ms/step - loss: 7.2094e-05 - val_loss: 1.8929e-04 - lr: 7.2900e-04\n",
      "Epoch 36/100\n",
      "50/50 [==============================] - 0s 7ms/step - loss: 7.4648e-05 - val_loss: 1.9177e-04 - lr: 7.2900e-04\n",
      "Epoch 37/100\n",
      "50/50 [==============================] - 0s 7ms/step - loss: 7.7716e-05 - val_loss: 1.9038e-04 - lr: 7.2900e-04\n",
      "Epoch 38/100\n",
      "50/50 [==============================] - 0s 8ms/step - loss: 7.2661e-05 - val_loss: 1.9504e-04 - lr: 7.2900e-04\n",
      "Epoch 39/100\n",
      "50/50 [==============================] - 0s 7ms/step - loss: 8.7967e-05 - val_loss: 1.9474e-04 - lr: 7.2900e-04\n",
      "Epoch 40/100\n",
      "50/50 [==============================] - 0s 7ms/step - loss: 7.7089e-05 - val_loss: 1.9038e-04 - lr: 7.2900e-04\n",
      "Epoch 41/100\n",
      "50/50 [==============================] - 0s 7ms/step - loss: 7.1270e-05 - val_loss: 2.0241e-04 - lr: 6.5610e-04\n",
      "Epoch 42/100\n",
      "50/50 [==============================] - 0s 8ms/step - loss: 7.6167e-05 - val_loss: 2.2138e-04 - lr: 6.5610e-04\n",
      "Epoch 43/100\n",
      "50/50 [==============================] - 0s 8ms/step - loss: 6.9988e-05 - val_loss: 1.9588e-04 - lr: 6.5610e-04\n",
      "Epoch 44/100\n",
      "50/50 [==============================] - 1s 11ms/step - loss: 7.2739e-05 - val_loss: 2.1546e-04 - lr: 6.5610e-04\n",
      "Epoch 45/100\n",
      "50/50 [==============================] - 1s 10ms/step - loss: 7.1711e-05 - val_loss: 1.8543e-04 - lr: 6.5610e-04\n",
      "Epoch 46/100\n",
      "50/50 [==============================] - 0s 9ms/step - loss: 7.2545e-05 - val_loss: 1.8109e-04 - lr: 6.5610e-04\n",
      "Epoch 47/100\n",
      "50/50 [==============================] - 1s 14ms/step - loss: 7.8134e-05 - val_loss: 1.8168e-04 - lr: 6.5610e-04\n",
      "Epoch 48/100\n",
      "50/50 [==============================] - 1s 10ms/step - loss: 7.2884e-05 - val_loss: 1.8451e-04 - lr: 6.5610e-04\n",
      "Epoch 49/100\n",
      "50/50 [==============================] - 1s 14ms/step - loss: 7.1561e-05 - val_loss: 2.0489e-04 - lr: 6.5610e-04\n",
      "Epoch 50/100\n",
      "50/50 [==============================] - 1s 11ms/step - loss: 7.4084e-05 - val_loss: 1.8842e-04 - lr: 6.5610e-04\n",
      "Epoch 51/100\n",
      "50/50 [==============================] - 0s 7ms/step - loss: 6.8468e-05 - val_loss: 1.7238e-04 - lr: 5.9049e-04\n",
      "Epoch 52/100\n",
      "50/50 [==============================] - 0s 8ms/step - loss: 6.8959e-05 - val_loss: 1.7758e-04 - lr: 5.9049e-04\n",
      "Epoch 53/100\n",
      "50/50 [==============================] - 0s 7ms/step - loss: 6.7363e-05 - val_loss: 1.6792e-04 - lr: 5.9049e-04\n",
      "Epoch 54/100\n",
      "50/50 [==============================] - 0s 7ms/step - loss: 6.8982e-05 - val_loss: 1.6643e-04 - lr: 5.9049e-04\n",
      "Epoch 55/100\n",
      "50/50 [==============================] - 0s 7ms/step - loss: 7.1800e-05 - val_loss: 2.8979e-04 - lr: 5.9049e-04\n",
      "Epoch 56/100\n",
      "50/50 [==============================] - 0s 8ms/step - loss: 7.3162e-05 - val_loss: 1.7024e-04 - lr: 5.9049e-04\n",
      "Epoch 57/100\n",
      "50/50 [==============================] - 0s 7ms/step - loss: 7.7490e-05 - val_loss: 1.7450e-04 - lr: 5.9049e-04\n",
      "Epoch 58/100\n",
      "50/50 [==============================] - 0s 7ms/step - loss: 6.5610e-05 - val_loss: 1.6564e-04 - lr: 5.9049e-04\n",
      "Epoch 59/100\n",
      "50/50 [==============================] - 0s 7ms/step - loss: 6.5397e-05 - val_loss: 1.6153e-04 - lr: 5.9049e-04\n",
      "Epoch 60/100\n",
      "50/50 [==============================] - 0s 7ms/step - loss: 6.6881e-05 - val_loss: 1.6525e-04 - lr: 5.9049e-04\n",
      "Epoch 61/100\n",
      "50/50 [==============================] - 0s 7ms/step - loss: 6.5429e-05 - val_loss: 1.6444e-04 - lr: 5.3144e-04\n",
      "Epoch 62/100\n",
      "50/50 [==============================] - 0s 7ms/step - loss: 6.2989e-05 - val_loss: 1.6359e-04 - lr: 5.3144e-04\n",
      "Epoch 63/100\n",
      "50/50 [==============================] - 0s 7ms/step - loss: 6.5289e-05 - val_loss: 1.6710e-04 - lr: 5.3144e-04\n",
      "Epoch 64/100\n",
      "50/50 [==============================] - 0s 7ms/step - loss: 6.3982e-05 - val_loss: 1.6048e-04 - lr: 5.3144e-04\n",
      "Epoch 65/100\n",
      "50/50 [==============================] - 0s 8ms/step - loss: 6.6495e-05 - val_loss: 1.5917e-04 - lr: 5.3144e-04\n",
      "Epoch 66/100\n",
      "50/50 [==============================] - 0s 7ms/step - loss: 7.0578e-05 - val_loss: 1.5692e-04 - lr: 5.3144e-04\n",
      "Epoch 67/100\n",
      "50/50 [==============================] - 0s 7ms/step - loss: 6.4678e-05 - val_loss: 1.7415e-04 - lr: 5.3144e-04\n",
      "Epoch 68/100\n",
      "50/50 [==============================] - 0s 7ms/step - loss: 6.2868e-05 - val_loss: 1.5972e-04 - lr: 5.3144e-04\n",
      "Epoch 69/100\n",
      "50/50 [==============================] - 0s 7ms/step - loss: 7.3856e-05 - val_loss: 1.8891e-04 - lr: 5.3144e-04\n",
      "Epoch 70/100\n",
      "50/50 [==============================] - 0s 7ms/step - loss: 6.5380e-05 - val_loss: 1.5772e-04 - lr: 5.3144e-04\n",
      "Epoch 71/100\n",
      "50/50 [==============================] - 0s 7ms/step - loss: 6.4713e-05 - val_loss: 1.5670e-04 - lr: 4.7830e-04\n",
      "Epoch 72/100\n",
      "50/50 [==============================] - 0s 7ms/step - loss: 6.0961e-05 - val_loss: 1.5519e-04 - lr: 4.7830e-04\n",
      "Epoch 73/100\n",
      "50/50 [==============================] - 0s 7ms/step - loss: 6.0636e-05 - val_loss: 1.5498e-04 - lr: 4.7830e-04\n",
      "Epoch 74/100\n",
      "50/50 [==============================] - 0s 7ms/step - loss: 6.4179e-05 - val_loss: 1.5324e-04 - lr: 4.7830e-04\n",
      "Epoch 75/100\n",
      "50/50 [==============================] - 0s 7ms/step - loss: 6.5727e-05 - val_loss: 1.6063e-04 - lr: 4.7830e-04\n",
      "Epoch 76/100\n",
      "50/50 [==============================] - 0s 8ms/step - loss: 6.4451e-05 - val_loss: 1.5596e-04 - lr: 4.7830e-04\n",
      "Epoch 77/100\n",
      "50/50 [==============================] - 0s 7ms/step - loss: 6.1080e-05 - val_loss: 1.5240e-04 - lr: 4.7830e-04\n",
      "Epoch 78/100\n",
      "50/50 [==============================] - 0s 7ms/step - loss: 6.2122e-05 - val_loss: 1.5803e-04 - lr: 4.7830e-04\n",
      "Epoch 79/100\n",
      "50/50 [==============================] - 0s 7ms/step - loss: 6.7807e-05 - val_loss: 1.7300e-04 - lr: 4.7830e-04\n",
      "Epoch 80/100\n",
      "50/50 [==============================] - 0s 7ms/step - loss: 6.6992e-05 - val_loss: 1.7028e-04 - lr: 4.7830e-04\n",
      "Epoch 81/100\n",
      "50/50 [==============================] - 0s 7ms/step - loss: 6.0153e-05 - val_loss: 1.5087e-04 - lr: 4.3047e-04\n",
      "Epoch 82/100\n",
      "50/50 [==============================] - 0s 7ms/step - loss: 6.4625e-05 - val_loss: 1.6995e-04 - lr: 4.3047e-04\n",
      "Epoch 83/100\n",
      "50/50 [==============================] - 0s 7ms/step - loss: 6.1852e-05 - val_loss: 1.5452e-04 - lr: 4.3047e-04\n",
      "Epoch 84/100\n",
      "50/50 [==============================] - 0s 7ms/step - loss: 6.0999e-05 - val_loss: 1.5340e-04 - lr: 4.3047e-04\n",
      "Epoch 85/100\n",
      "50/50 [==============================] - 0s 7ms/step - loss: 5.9465e-05 - val_loss: 1.5749e-04 - lr: 4.3047e-04\n",
      "Epoch 86/100\n",
      "50/50 [==============================] - 0s 7ms/step - loss: 6.2170e-05 - val_loss: 1.6775e-04 - lr: 4.3047e-04\n",
      "Epoch 87/100\n",
      "50/50 [==============================] - 0s 6ms/step - loss: 6.5393e-05 - val_loss: 1.5687e-04 - lr: 4.3047e-04\n",
      "Epoch 88/100\n",
      "50/50 [==============================] - 0s 7ms/step - loss: 6.0859e-05 - val_loss: 1.4994e-04 - lr: 4.3047e-04\n",
      "Epoch 89/100\n",
      "50/50 [==============================] - 0s 7ms/step - loss: 6.2803e-05 - val_loss: 1.4850e-04 - lr: 4.3047e-04\n",
      "Epoch 90/100\n",
      "50/50 [==============================] - 0s 7ms/step - loss: 6.1285e-05 - val_loss: 1.7315e-04 - lr: 4.3047e-04\n",
      "Epoch 91/100\n",
      "50/50 [==============================] - 0s 9ms/step - loss: 6.1019e-05 - val_loss: 1.4882e-04 - lr: 3.8742e-04\n",
      "Epoch 92/100\n",
      "50/50 [==============================] - 0s 7ms/step - loss: 5.8961e-05 - val_loss: 1.4896e-04 - lr: 3.8742e-04\n",
      "Epoch 93/100\n",
      "50/50 [==============================] - 0s 8ms/step - loss: 6.2474e-05 - val_loss: 1.4759e-04 - lr: 3.8742e-04\n",
      "Epoch 94/100\n",
      "50/50 [==============================] - 0s 7ms/step - loss: 6.0179e-05 - val_loss: 1.4929e-04 - lr: 3.8742e-04\n",
      "Epoch 95/100\n",
      "50/50 [==============================] - 0s 7ms/step - loss: 6.0953e-05 - val_loss: 1.6067e-04 - lr: 3.8742e-04\n",
      "Epoch 96/100\n",
      "50/50 [==============================] - 0s 7ms/step - loss: 5.9469e-05 - val_loss: 1.5104e-04 - lr: 3.8742e-04\n",
      "Epoch 97/100\n",
      "50/50 [==============================] - 0s 7ms/step - loss: 6.1274e-05 - val_loss: 1.4733e-04 - lr: 3.8742e-04\n",
      "Epoch 98/100\n",
      "50/50 [==============================] - 0s 7ms/step - loss: 6.0920e-05 - val_loss: 1.5358e-04 - lr: 3.8742e-04\n",
      "Epoch 99/100\n",
      "50/50 [==============================] - 0s 7ms/step - loss: 6.5053e-05 - val_loss: 1.7896e-04 - lr: 3.8742e-04\n",
      "Epoch 100/100\n",
      "50/50 [==============================] - 0s 7ms/step - loss: 5.9236e-05 - val_loss: 1.4835e-04 - lr: 3.8742e-04\n"
     ]
    }
   ],
   "source": [
    "gru_history = gru_model.fit(X_train_seq, y_train_seq, epochs=100, validation_data=(X_val_seq, y_val_seq), callbacks=[lr_callback])"
   ]
  },
  {
   "cell_type": "code",
   "execution_count": 25,
   "metadata": {},
   "outputs": [
    {
     "name": "stdout",
     "output_type": "stream",
     "text": [
      "6/6 [==============================] - 0s 3ms/step\n",
      "6/6 [==============================] - 0s 3ms/step\n"
     ]
    }
   ],
   "source": [
    "validation_prediction=gru_model.predict(X_val_seq)\n",
    "test_predict=gru_model.predict(X_test_seq)"
   ]
  },
  {
   "cell_type": "markdown",
   "metadata": {},
   "source": [
    "Scale the data to initial state"
   ]
  },
  {
   "cell_type": "code",
   "execution_count": 26,
   "metadata": {},
   "outputs": [],
   "source": [
    "y_valid_inversed = close_scaler.inverse_transform(validation_prediction)\n",
    "y_test_inversed = close_scaler.inverse_transform(test_predict)"
   ]
  },
  {
   "cell_type": "code",
   "execution_count": 27,
   "metadata": {},
   "outputs": [],
   "source": [
    "y_test_original = close_scaler.inverse_transform(y_test)"
   ]
  },
  {
   "cell_type": "markdown",
   "metadata": {},
   "source": [
    "Plot the prediction and the initial data"
   ]
  },
  {
   "cell_type": "code",
   "execution_count": 28,
   "metadata": {},
   "outputs": [
    {
     "data": {
      "image/png": "[encoded data removed]",
      "text/plain": [
       "<Figure size 640x480 with 1 Axes>"
      ]
     },
     "metadata": {},
     "output_type": "display_data"
    }
   ],
   "source": [
    "import numpy as np\n",
    "import matplotlib.pyplot as plt\n",
    "\n",
    "# Assuming you have defined y_train, y_test, validation_prediction, and test_predict\n",
    "\n",
    "# Calculate the starting index for test data in the x-axis\n",
    "start_index = y_train.shape[0] + y_val.shape[0]\n",
    "end_index_first_plot = start_index + y_test.shape[0]\n",
    "x_values_second_plot = np.arange(end_index_first_plot - test_predict.shape[0], end_index_first_plot)\n",
    "\n",
    "\n",
    "# Plotting\n",
    "plt.plot(np.arange(start_index, start_index + y_test.shape[0]),\n",
    "         y_test_original, color='black', label='test target')\n",
    "\n",
    "plt.plot(x_values_second_plot,\n",
    "         y_test_inversed, color='green', label='test prediction')\n",
    "\n",
    "plt.title('Future Stock Prices')\n",
    "plt.xlabel('Time [Days]')\n",
    "plt.ylabel('Normalized Price')\n",
    "plt.legend(loc='best')\n",
    "\n",
    "plt.show()"
   ]
  },
  {
   "cell_type": "code",
   "execution_count": 29,
   "metadata": {},
   "outputs": [
    {
     "name": "stdout",
     "output_type": "stream",
     "text": [
      "[[0.93775435 0.94487382 0.9342688  0.94756359]\n",
      " [0.94258487 0.9465507  0.93978155 0.93999488]\n",
      " [0.93155869 0.93413154 0.93168392 0.93558842]\n",
      " [0.94169228 0.96004402 0.94627032 0.96347852]\n",
      " [0.96920537 0.96688235 0.95856196 0.96301198]\n",
      " [0.97482346 0.99213981 0.97581237 0.98924315]\n",
      " [0.97232948 0.97846307 0.96209645 0.96643346]\n",
      " [0.95909798 0.97356356 0.96470773 0.96876625]\n",
      " [0.96849649 0.97602643 0.96937641 0.97936759]\n",
      " [0.979444   0.98726645 0.98285503 0.9892691 ]]\n"
     ]
    }
   ],
   "source": [
    "last_sequence = X_test_seq[-1]\n",
    "print(last_sequence)\n"
   ]
  },
  {
   "cell_type": "markdown",
   "metadata": {},
   "source": [
    "Actual price from today compared with both models"
   ]
  },
  {
   "cell_type": "code",
   "execution_count": 30,
   "metadata": {},
   "outputs": [
    {
     "name": "stdout",
     "output_type": "stream",
     "text": [
      "1/1 [==============================] - 0s 30ms/step\n"
     ]
    },
    {
     "name": "stdout",
     "output_type": "stream",
     "text": [
      "[[0.98830026]]\n",
      "LSTM_Model tomorrow price prediction:  [[424.9131]]\n",
      "1/1 [==============================] - 0s 27ms/step\n",
      "[[0.97454226]]\n",
      "GRU_Model tomorrow price prediction:  [[419.67212]]\n",
      "Tomorrow expected price:  428.739990234375\n"
     ]
    }
   ],
   "source": [
    "last_sequence = last_sequence.reshape(1, time_steps, 4)\n",
    "\n",
    "next_day_prediction = model.predict(last_sequence)\n",
    "print(next_day_prediction)\n",
    "\n",
    "print(\"LSTM_Model tomorrow price prediction: \",close_scaler.inverse_transform(next_day_prediction))\n",
    "\n",
    "next_day_prediction = gru_model.predict(last_sequence)\n",
    "print(next_day_prediction)\n",
    "\n",
    "print(\"GRU_Model tomorrow price prediction: \",close_scaler.inverse_transform(next_day_prediction))\n",
    "\n",
    "print(\"Tomorrow expected price: \",last_row['Close'])"
   ]
  }
 ],
 "metadata": {
  "kernelspec": {
   "display_name": "stock-prediction-env",
   "language": "python",
   "name": "python3"
  },
  "language_info": {
   "codemirror_mode": {
    "name": "ipython",
    "version": 3
   },
   "file_extension": ".py",
   "mimetype": "text/x-python",
   "name": "python",
   "nbconvert_exporter": "python",
   "pygments_lexer": "ipython3",
   "version": "3.9.18"
  }
 },
 "nbformat": 4,
 "nbformat_minor": 2
}
