{
 "cells": [
  {
   "cell_type": "markdown",
   "metadata": {},
   "source": [
    "We bring the imports we need"
   ]
  },
  {
   "cell_type": "code",
   "execution_count": 1,
   "metadata": {},
   "outputs": [
    {
     "name": "stderr",
     "output_type": "stream",
     "text": [
      "2024-03-21 15:27:55.586407: I tensorflow/core/platform/cpu_feature_guard.cc:182] This TensorFlow binary is optimized to use available CPU instructions in performance-critical operations.\n",
      "To enable the following instructions: SSE4.1 SSE4.2 AVX AVX2 FMA, in other operations, rebuild TensorFlow with the appropriate compiler flags.\n"
     ]
    }
   ],
   "source": [
    "import numpy as np\n",
    "import pandas as pd\n",
    "import matplotlib.pyplot as plt\n",
    "import seaborn as sns\n",
    "from datetime import datetime\n",
    "import yfinance as yf\n",
    "from sklearn.preprocessing import MinMaxScaler\n",
    "from sklearn.model_selection import train_test_split\n",
    "import tensorflow as tf\n",
    "from keras.models import Sequential\n",
    "from keras.layers import LSTM, Dense, Dropout, GRU\n",
    "from keras.optimizers import Adam\n",
    "from keras.callbacks import LearningRateScheduler\n"
   ]
  },
  {
   "cell_type": "markdown",
   "metadata": {},
   "source": [
    "## Load dataset"
   ]
  },
  {
   "cell_type": "markdown",
   "metadata": {},
   "source": [
    "We will use yfincance to get the data from *Microsoft*"
   ]
  },
  {
   "cell_type": "code",
   "execution_count": 2,
   "metadata": {},
   "outputs": [
    {
     "name": "stderr",
     "output_type": "stream",
     "text": [
      "[*********************100%%**********************]  1 of 1 completed\n"
     ]
    },
    {
     "data": {
      "text/plain": [
       "(2014, 6)"
      ]
     },
     "execution_count": 2,
     "metadata": {},
     "output_type": "execute_result"
    }
   ],
   "source": [
    "end = datetime.now()\n",
    "start = datetime(2016, end.month, end.day)\n",
    "dataset = yf.download(\"MSFT\", start, end)\n",
    "dataset.shape"
   ]
  },
  {
   "cell_type": "markdown",
   "metadata": {},
   "source": [
    "## Inspect dataset"
   ]
  },
  {
   "cell_type": "markdown",
   "metadata": {},
   "source": [
    "Let's see the dataset that we have"
   ]
  },
  {
   "cell_type": "code",
   "execution_count": 3,
   "metadata": {},
   "outputs": [
    {
     "data": {
      "text/html": [
       "<div>\n",
       "<style scoped>\n",
       "    .dataframe tbody tr th:only-of-type {\n",
       "        vertical-align: middle;\n",
       "    }\n",
       "\n",
       "    .dataframe tbody tr th {\n",
       "        vertical-align: top;\n",
       "    }\n",
       "\n",
       "    .dataframe thead th {\n",
       "        text-align: right;\n",
       "    }\n",
       "</style>\n",
       "<table border=\"1\" class=\"dataframe\">\n",
       "  <thead>\n",
       "    <tr style=\"text-align: right;\">\n",
       "      <th></th>\n",
       "      <th>Open</th>\n",
       "      <th>High</th>\n",
       "      <th>Low</th>\n",
       "      <th>Close</th>\n",
       "      <th>Adj Close</th>\n",
       "      <th>Volume</th>\n",
       "    </tr>\n",
       "    <tr>\n",
       "      <th>Date</th>\n",
       "      <th></th>\n",
       "      <th></th>\n",
       "      <th></th>\n",
       "      <th></th>\n",
       "      <th></th>\n",
       "      <th></th>\n",
       "    </tr>\n",
       "  </thead>\n",
       "  <tbody>\n",
       "    <tr>\n",
       "      <th>2024-03-14</th>\n",
       "      <td>420.239990</td>\n",
       "      <td>427.820007</td>\n",
       "      <td>417.989990</td>\n",
       "      <td>425.220001</td>\n",
       "      <td>425.220001</td>\n",
       "      <td>34157300</td>\n",
       "    </tr>\n",
       "    <tr>\n",
       "      <th>2024-03-15</th>\n",
       "      <td>419.290009</td>\n",
       "      <td>422.600006</td>\n",
       "      <td>412.790009</td>\n",
       "      <td>416.420013</td>\n",
       "      <td>416.420013</td>\n",
       "      <td>45049800</td>\n",
       "    </tr>\n",
       "    <tr>\n",
       "      <th>2024-03-18</th>\n",
       "      <td>414.250000</td>\n",
       "      <td>420.730011</td>\n",
       "      <td>413.779999</td>\n",
       "      <td>417.320007</td>\n",
       "      <td>417.320007</td>\n",
       "      <td>20106000</td>\n",
       "    </tr>\n",
       "    <tr>\n",
       "      <th>2024-03-19</th>\n",
       "      <td>417.829987</td>\n",
       "      <td>421.670013</td>\n",
       "      <td>415.549988</td>\n",
       "      <td>421.410004</td>\n",
       "      <td>421.410004</td>\n",
       "      <td>19837900</td>\n",
       "    </tr>\n",
       "    <tr>\n",
       "      <th>2024-03-20</th>\n",
       "      <td>422.000000</td>\n",
       "      <td>425.959991</td>\n",
       "      <td>420.660004</td>\n",
       "      <td>425.230011</td>\n",
       "      <td>425.230011</td>\n",
       "      <td>17828300</td>\n",
       "    </tr>\n",
       "  </tbody>\n",
       "</table>\n",
       "</div>"
      ],
      "text/plain": [
       "                  Open        High         Low       Close   Adj Close  \\\n",
       "Date                                                                     \n",
       "2024-03-14  420.239990  427.820007  417.989990  425.220001  425.220001   \n",
       "2024-03-15  419.290009  422.600006  412.790009  416.420013  416.420013   \n",
       "2024-03-18  414.250000  420.730011  413.779999  417.320007  417.320007   \n",
       "2024-03-19  417.829987  421.670013  415.549988  421.410004  421.410004   \n",
       "2024-03-20  422.000000  425.959991  420.660004  425.230011  425.230011   \n",
       "\n",
       "              Volume  \n",
       "Date                  \n",
       "2024-03-14  34157300  \n",
       "2024-03-15  45049800  \n",
       "2024-03-18  20106000  \n",
       "2024-03-19  19837900  \n",
       "2024-03-20  17828300  "
      ]
     },
     "execution_count": 3,
     "metadata": {},
     "output_type": "execute_result"
    }
   ],
   "source": [
    "dataset.tail()"
   ]
  },
  {
   "cell_type": "markdown",
   "metadata": {},
   "source": [
    "Here we remove the last row and we save it in a new variable to use it to compare predicted price with the last price we have in the last row."
   ]
  },
  {
   "cell_type": "code",
   "execution_count": 4,
   "metadata": {},
   "outputs": [],
   "source": [
    "last_row = dataset.iloc[-1]\n",
    "dataset.drop(dataset.index[-1], inplace=True)\n"
   ]
  },
  {
   "cell_type": "markdown",
   "metadata": {},
   "source": [
    "Let's check for null data"
   ]
  },
  {
   "cell_type": "code",
   "execution_count": 5,
   "metadata": {},
   "outputs": [
    {
     "data": {
      "text/plain": [
       "Open         0\n",
       "High         0\n",
       "Low          0\n",
       "Close        0\n",
       "Adj Close    0\n",
       "Volume       0\n",
       "dtype: int64"
      ]
     },
     "execution_count": 5,
     "metadata": {},
     "output_type": "execute_result"
    }
   ],
   "source": [
    "dataset.isna().sum()"
   ]
  },
  {
   "cell_type": "markdown",
   "metadata": {},
   "source": [
    "We will check what type of data are the columns from dataset"
   ]
  },
  {
   "cell_type": "code",
   "execution_count": 6,
   "metadata": {},
   "outputs": [
    {
     "name": "stdout",
     "output_type": "stream",
     "text": [
      "<class 'pandas.core.frame.DataFrame'>\n",
      "DatetimeIndex: 2013 entries, 2016-03-21 to 2024-03-19\n",
      "Data columns (total 6 columns):\n",
      " #   Column     Non-Null Count  Dtype  \n",
      "---  ------     --------------  -----  \n",
      " 0   Open       2013 non-null   float64\n",
      " 1   High       2013 non-null   float64\n",
      " 2   Low        2013 non-null   float64\n",
      " 3   Close      2013 non-null   float64\n",
      " 4   Adj Close  2013 non-null   float64\n",
      " 5   Volume     2013 non-null   int64  \n",
      "dtypes: float64(5), int64(1)\n",
      "memory usage: 110.1 KB\n"
     ]
    }
   ],
   "source": [
    "dataset.info()"
   ]
  },
  {
   "cell_type": "markdown",
   "metadata": {},
   "source": [
    "Let's check for duplicates"
   ]
  },
  {
   "cell_type": "code",
   "execution_count": 7,
   "metadata": {},
   "outputs": [
    {
     "data": {
      "text/plain": [
       "0"
      ]
     },
     "execution_count": 7,
     "metadata": {},
     "output_type": "execute_result"
    }
   ],
   "source": [
    "dataset.duplicated().sum()"
   ]
  },
  {
   "cell_type": "markdown",
   "metadata": {},
   "source": [
    "Let's observe the dataset in a plot"
   ]
  },
  {
   "cell_type": "code",
   "execution_count": 8,
   "metadata": {},
   "outputs": [
    {
     "name": "stderr",
     "output_type": "stream",
     "text": [
      "/usr/local/Caskroom/miniconda/base/envs/stock-prediction-env/lib/python3.9/site-packages/seaborn/_oldcore.py:1119: FutureWarning: use_inf_as_na option is deprecated and will be removed in a future version. Convert inf values to NaN before operating instead.\n",
      "  with pd.option_context('mode.use_inf_as_na', True):\n",
      "/usr/local/Caskroom/miniconda/base/envs/stock-prediction-env/lib/python3.9/site-packages/seaborn/_oldcore.py:1119: FutureWarning: use_inf_as_na option is deprecated and will be removed in a future version. Convert inf values to NaN before operating instead.\n",
      "  with pd.option_context('mode.use_inf_as_na', True):\n"
     ]
    },
    {
     "data": {
      "image/png": "[encoded data removed]",
      "text/plain": [
       "<Figure size 1500x500 with 1 Axes>"
      ]
     },
     "metadata": {},
     "output_type": "display_data"
    }
   ],
   "source": [
    "plt.figure(figsize=(15, 5))\n",
    "palette = sns.color_palette(\"husl\", 5)\n",
    "sns.lineplot(data=dataset[['Open', 'High', 'Low', 'Close', 'Adj Close']],palette=palette) \n",
    "plt.title('Stock Price')\n",
    "plt.xlabel('Time [Days]')\n",
    "plt.ylabel('Price')\n",
    "plt.legend(labels=['Open', 'High', 'Low', 'Close', 'Adj Close'], loc='best')\n",
    "plt.show()"
   ]
  },
  {
   "cell_type": "code",
   "execution_count": 9,
   "metadata": {},
   "outputs": [],
   "source": [
    "original_dataset = dataset"
   ]
  },
  {
   "cell_type": "markdown",
   "metadata": {},
   "source": [
    "## Transform the data"
   ]
  },
  {
   "cell_type": "markdown",
   "metadata": {},
   "source": [
    "We normalize the data"
   ]
  },
  {
   "cell_type": "code",
   "execution_count": 10,
   "metadata": {},
   "outputs": [
    {
     "data": {
      "text/html": [
       "<div>\n",
       "<style scoped>\n",
       "    .dataframe tbody tr th:only-of-type {\n",
       "        vertical-align: middle;\n",
       "    }\n",
       "\n",
       "    .dataframe tbody tr th {\n",
       "        vertical-align: top;\n",
       "    }\n",
       "\n",
       "    .dataframe thead th {\n",
       "        text-align: right;\n",
       "    }\n",
       "</style>\n",
       "<table border=\"1\" class=\"dataframe\">\n",
       "  <thead>\n",
       "    <tr style=\"text-align: right;\">\n",
       "      <th></th>\n",
       "      <th>Open</th>\n",
       "      <th>High</th>\n",
       "      <th>Low</th>\n",
       "      <th>Close</th>\n",
       "      <th>Adj Close</th>\n",
       "      <th>Volume</th>\n",
       "    </tr>\n",
       "    <tr>\n",
       "      <th>Date</th>\n",
       "      <th></th>\n",
       "      <th></th>\n",
       "      <th></th>\n",
       "      <th></th>\n",
       "      <th></th>\n",
       "      <th></th>\n",
       "    </tr>\n",
       "  </thead>\n",
       "  <tbody>\n",
       "    <tr>\n",
       "      <th>2016-03-21</th>\n",
       "      <td>0.011651</td>\n",
       "      <td>0.012623</td>\n",
       "      <td>0.013218</td>\n",
       "      <td>53.860001</td>\n",
       "      <td>0.011918</td>\n",
       "      <td>0.130873</td>\n",
       "    </tr>\n",
       "    <tr>\n",
       "      <th>2016-03-22</th>\n",
       "      <td>0.012620</td>\n",
       "      <td>0.013468</td>\n",
       "      <td>0.014651</td>\n",
       "      <td>54.070000</td>\n",
       "      <td>0.012410</td>\n",
       "      <td>0.124515</td>\n",
       "    </tr>\n",
       "    <tr>\n",
       "      <th>2016-03-23</th>\n",
       "      <td>0.013965</td>\n",
       "      <td>0.013442</td>\n",
       "      <td>0.015407</td>\n",
       "      <td>53.970001</td>\n",
       "      <td>0.012175</td>\n",
       "      <td>0.100759</td>\n",
       "    </tr>\n",
       "    <tr>\n",
       "      <th>2016-03-24</th>\n",
       "      <td>0.013239</td>\n",
       "      <td>0.013679</td>\n",
       "      <td>0.015380</td>\n",
       "      <td>54.209999</td>\n",
       "      <td>0.012737</td>\n",
       "      <td>0.099339</td>\n",
       "    </tr>\n",
       "    <tr>\n",
       "      <th>2016-03-28</th>\n",
       "      <td>0.014234</td>\n",
       "      <td>0.013574</td>\n",
       "      <td>0.014299</td>\n",
       "      <td>53.540001</td>\n",
       "      <td>0.011169</td>\n",
       "      <td>0.076140</td>\n",
       "    </tr>\n",
       "  </tbody>\n",
       "</table>\n",
       "</div>"
      ],
      "text/plain": [
       "                Open      High       Low      Close  Adj Close    Volume\n",
       "Date                                                                    \n",
       "2016-03-21  0.011651  0.012623  0.013218  53.860001   0.011918  0.130873\n",
       "2016-03-22  0.012620  0.013468  0.014651  54.070000   0.012410  0.124515\n",
       "2016-03-23  0.013965  0.013442  0.015407  53.970001   0.012175  0.100759\n",
       "2016-03-24  0.013239  0.013679  0.015380  54.209999   0.012737  0.099339\n",
       "2016-03-28  0.014234  0.013574  0.014299  53.540001   0.011169  0.076140"
      ]
     },
     "execution_count": 10,
     "metadata": {},
     "output_type": "execute_result"
    }
   ],
   "source": [
    "scaler = MinMaxScaler()\n",
    "columns_to_normalize = ['Open', 'High', 'Low', 'Adj Close', 'Volume']\n",
    "dataset[columns_to_normalize] = scaler.fit_transform(dataset[columns_to_normalize])\n",
    "\n",
    "dataset.head()\n"
   ]
  },
  {
   "cell_type": "code",
   "execution_count": 11,
   "metadata": {},
   "outputs": [],
   "source": [
    "close_scaler = MinMaxScaler()\n",
    "columns_to_normalize = ['Close']\n",
    "dataset[columns_to_normalize] = close_scaler.fit_transform(dataset[columns_to_normalize])\n"
   ]
  },
  {
   "cell_type": "markdown",
   "metadata": {},
   "source": [
    "Splitting the data\n",
    "X_train, y_train: Training set, used to train your model.\n",
    "X_val, y_val: Validation set, used to evaluate model performance during training.\n",
    "X_test, y_test: Test set, used to evaluate the final performance of your trained model."
   ]
  },
  {
   "cell_type": "code",
   "execution_count": 12,
   "metadata": {},
   "outputs": [],
   "source": [
    "X = dataset[['Open', 'High', 'Low', 'Adj Close']]\n",
    "y = dataset[['Close']]\n",
    "\n",
    "\n",
    "X_train, X_val_test, y_train, y_val_test = train_test_split(X, y, test_size=0.2, shuffle=False)\n",
    "X_val, X_test, y_val, y_test = train_test_split(X_val_test, y_val_test, test_size=0.5, shuffle=False)"
   ]
  },
  {
   "cell_type": "markdown",
   "metadata": {},
   "source": [
    "We sets the number of time steps to 10, meaning each sequence will contain 10 data points.\n",
    "X_train_seq, y_train_seq = create_time_steps(X_train, time_steps): This creates sequences for the training data (X_train_seq contains input sequences, and y_train_seq contains corresponding labels).\n",
    "X_val_seq, y_val_seq = create_time_steps(X_val, time_steps): This creates sequences for the validation data.\n",
    "X_test_seq, y_test_seq = create_time_steps(X_test, time_steps): This creates sequences for the test data."
   ]
  },
  {
   "cell_type": "code",
   "execution_count": 13,
   "metadata": {},
   "outputs": [],
   "source": [
    "def create_time_steps(data, time_steps):\n",
    "    X = []\n",
    "    y = []\n",
    "    for i in range(len(data) - time_steps):\n",
    "        X.append(data.iloc[i:i+time_steps])\n",
    "        y.append(data.iloc[i+time_steps])\n",
    "    return np.array(X), np.array(y)\n",
    "\n",
    "# Define the number of time steps\n",
    "time_steps = 10\n",
    "\n",
    "# Create time steps sequences for training data\n",
    "X_train_seq, y_train_seq = create_time_steps(X_train, time_steps)\n",
    "\n",
    "# Create time steps sequences for validation data\n",
    "X_val_seq, y_val_seq = create_time_steps(X_val, time_steps)\n",
    "\n",
    "# Create time steps sequences for test data\n",
    "X_test_seq, y_test_seq = create_time_steps(X_test, time_steps)\n"
   ]
  },
  {
   "cell_type": "code",
   "execution_count": 14,
   "metadata": {},
   "outputs": [
    {
     "data": {
      "text/plain": [
       "(192, 10, 4)"
      ]
     },
     "execution_count": 14,
     "metadata": {},
     "output_type": "execute_result"
    }
   ],
   "source": [
    "X_test_seq.shape"
   ]
  },
  {
   "cell_type": "markdown",
   "metadata": {},
   "source": [
    "## Create Model RNN Sequential LSTM"
   ]
  },
  {
   "cell_type": "markdown",
   "metadata": {},
   "source": [
    "We create a sequential model using an LSTM layer followed by a Dense output layer\n",
    "we are predicting the future value of the 'Close' price of a stock based on past values of the 'Open', 'High', 'Low', and 'Adj Close' prices.\n",
    "\n",
    "Input: Each input sequence consists of past values of 'Open', 'High', 'Low', and 'Adj Close' prices, represented as a sequence of 10 time steps.\n",
    "Output: The model is trained to predict the next value of the 'Close' price following the input sequence."
   ]
  },
  {
   "cell_type": "code",
   "execution_count": 15,
   "metadata": {},
   "outputs": [],
   "source": [
    "model = Sequential([\n",
    "    LSTM(units=128, activation='relu', input_shape=(time_steps , 4)),   \n",
    "    Dense(units=1)  \n",
    "    \n",
    "])"
   ]
  },
  {
   "cell_type": "markdown",
   "metadata": {},
   "source": [
    "Define the optimizer and compile the model"
   ]
  },
  {
   "cell_type": "code",
   "execution_count": 16,
   "metadata": {},
   "outputs": [],
   "source": [
    "opt = Adam(learning_rate=0.001)  # Adjust learning rate if necessary\n",
    "model.compile(optimizer=opt, loss='mean_squared_error')\n",
    "\n",
    "# Define a learning rate scheduler\n",
    "def lr_scheduler(epoch, lr):\n",
    "    if epoch % 15 == 0 and epoch != 0:\n",
    "        lr = lr * 0.9  # Decrease learning rate by 10% every 10 epochs\n",
    "    return lr\n",
    "\n",
    "lr_callback = LearningRateScheduler(lr_scheduler)"
   ]
  },
  {
   "cell_type": "markdown",
   "metadata": {},
   "source": [
    "We train the model :\n",
    "X_train_seq: This is the input data that we use to train your model. Here X_train_seq contains sequences of past values of 'Open', 'High', 'Low', and 'Adj Close' prices, and each sequence has a length of 10 time steps.\n",
    "y_train_seq: This is the target data that we try to predict during training. In this case, y_train_seq contains the next value of the 'Close' price corresponding to each sequence in X_train_seq."
   ]
  },
  {
   "cell_type": "code",
   "execution_count": 17,
   "metadata": {},
   "outputs": [
    {
     "name": "stdout",
     "output_type": "stream",
     "text": [
      "Epoch 1/100\n",
      "50/50 [==============================] - 2s 14ms/step - loss: 0.0163 - val_loss: 6.1703e-04 - lr: 0.0010\n",
      "Epoch 2/100\n",
      "50/50 [==============================] - 0s 7ms/step - loss: 2.3249e-04 - val_loss: 4.1028e-04 - lr: 0.0010\n",
      "Epoch 3/100\n",
      "50/50 [==============================] - 0s 7ms/step - loss: 1.6697e-04 - val_loss: 3.7985e-04 - lr: 0.0010\n",
      "Epoch 4/100\n",
      "50/50 [==============================] - 0s 7ms/step - loss: 1.7047e-04 - val_loss: 3.8316e-04 - lr: 0.0010\n",
      "Epoch 5/100\n",
      "50/50 [==============================] - 0s 7ms/step - loss: 1.5955e-04 - val_loss: 3.4042e-04 - lr: 0.0010\n",
      "Epoch 6/100\n",
      "50/50 [==============================] - 0s 7ms/step - loss: 1.3371e-04 - val_loss: 3.2196e-04 - lr: 0.0010\n",
      "Epoch 7/100\n",
      "50/50 [==============================] - 0s 7ms/step - loss: 1.3207e-04 - val_loss: 4.1967e-04 - lr: 0.0010\n",
      "Epoch 8/100\n",
      "50/50 [==============================] - 0s 7ms/step - loss: 1.6115e-04 - val_loss: 3.8692e-04 - lr: 0.0010\n",
      "Epoch 9/100\n",
      "50/50 [==============================] - 0s 7ms/step - loss: 1.3632e-04 - val_loss: 3.2138e-04 - lr: 0.0010\n",
      "Epoch 10/100\n",
      "50/50 [==============================] - 0s 7ms/step - loss: 1.3432e-04 - val_loss: 2.9707e-04 - lr: 0.0010\n",
      "Epoch 11/100\n",
      "50/50 [==============================] - 0s 7ms/step - loss: 1.1523e-04 - val_loss: 4.0777e-04 - lr: 0.0010\n",
      "Epoch 12/100\n",
      "50/50 [==============================] - 0s 7ms/step - loss: 1.2228e-04 - val_loss: 2.8331e-04 - lr: 0.0010\n",
      "Epoch 13/100\n",
      "50/50 [==============================] - 0s 7ms/step - loss: 1.1188e-04 - val_loss: 2.6811e-04 - lr: 0.0010\n",
      "Epoch 14/100\n",
      "50/50 [==============================] - 0s 8ms/step - loss: 1.1815e-04 - val_loss: 2.9981e-04 - lr: 0.0010\n",
      "Epoch 15/100\n",
      "50/50 [==============================] - 1s 10ms/step - loss: 1.1814e-04 - val_loss: 2.7644e-04 - lr: 0.0010\n",
      "Epoch 16/100\n",
      "50/50 [==============================] - 0s 7ms/step - loss: 1.1713e-04 - val_loss: 2.6116e-04 - lr: 9.0000e-04\n",
      "Epoch 17/100\n",
      "50/50 [==============================] - 0s 7ms/step - loss: 1.2481e-04 - val_loss: 3.0100e-04 - lr: 9.0000e-04\n",
      "Epoch 18/100\n",
      "50/50 [==============================] - 0s 7ms/step - loss: 1.0622e-04 - val_loss: 2.4414e-04 - lr: 9.0000e-04\n",
      "Epoch 19/100\n",
      "50/50 [==============================] - 0s 7ms/step - loss: 1.1842e-04 - val_loss: 2.5804e-04 - lr: 9.0000e-04\n",
      "Epoch 20/100\n",
      "50/50 [==============================] - 0s 7ms/step - loss: 1.1056e-04 - val_loss: 3.1303e-04 - lr: 9.0000e-04\n",
      "Epoch 21/100\n",
      "50/50 [==============================] - 0s 7ms/step - loss: 1.1682e-04 - val_loss: 2.8685e-04 - lr: 9.0000e-04\n",
      "Epoch 22/100\n",
      "50/50 [==============================] - 0s 7ms/step - loss: 1.0508e-04 - val_loss: 3.0809e-04 - lr: 9.0000e-04\n",
      "Epoch 23/100\n",
      "50/50 [==============================] - 0s 7ms/step - loss: 1.0422e-04 - val_loss: 2.2818e-04 - lr: 9.0000e-04\n",
      "Epoch 24/100\n",
      "50/50 [==============================] - 0s 7ms/step - loss: 1.0763e-04 - val_loss: 2.4091e-04 - lr: 9.0000e-04\n",
      "Epoch 25/100\n",
      "50/50 [==============================] - 0s 7ms/step - loss: 9.7568e-05 - val_loss: 2.2626e-04 - lr: 9.0000e-04\n",
      "Epoch 26/100\n",
      "50/50 [==============================] - 0s 7ms/step - loss: 9.2637e-05 - val_loss: 2.1887e-04 - lr: 9.0000e-04\n",
      "Epoch 27/100\n",
      "50/50 [==============================] - 0s 7ms/step - loss: 9.9350e-05 - val_loss: 2.3761e-04 - lr: 9.0000e-04\n",
      "Epoch 28/100\n",
      "50/50 [==============================] - 0s 7ms/step - loss: 9.3491e-05 - val_loss: 2.1596e-04 - lr: 9.0000e-04\n",
      "Epoch 29/100\n",
      "50/50 [==============================] - 0s 7ms/step - loss: 1.0139e-04 - val_loss: 2.1753e-04 - lr: 9.0000e-04\n",
      "Epoch 30/100\n",
      "50/50 [==============================] - 0s 7ms/step - loss: 1.0765e-04 - val_loss: 2.4924e-04 - lr: 9.0000e-04\n",
      "Epoch 31/100\n",
      "50/50 [==============================] - 0s 7ms/step - loss: 9.5394e-05 - val_loss: 2.2061e-04 - lr: 8.1000e-04\n",
      "Epoch 32/100\n",
      "50/50 [==============================] - 0s 7ms/step - loss: 9.1949e-05 - val_loss: 2.0882e-04 - lr: 8.1000e-04\n",
      "Epoch 33/100\n",
      "50/50 [==============================] - 0s 7ms/step - loss: 8.9500e-05 - val_loss: 2.2271e-04 - lr: 8.1000e-04\n",
      "Epoch 34/100\n",
      "50/50 [==============================] - 0s 7ms/step - loss: 8.7135e-05 - val_loss: 2.0561e-04 - lr: 8.1000e-04\n",
      "Epoch 35/100\n",
      "50/50 [==============================] - 0s 7ms/step - loss: 8.6620e-05 - val_loss: 2.1060e-04 - lr: 8.1000e-04\n",
      "Epoch 36/100\n",
      "50/50 [==============================] - 0s 7ms/step - loss: 9.1799e-05 - val_loss: 2.0357e-04 - lr: 8.1000e-04\n",
      "Epoch 37/100\n",
      "50/50 [==============================] - 0s 7ms/step - loss: 9.2614e-05 - val_loss: 2.4118e-04 - lr: 8.1000e-04\n",
      "Epoch 38/100\n",
      "50/50 [==============================] - 0s 7ms/step - loss: 9.2240e-05 - val_loss: 2.3079e-04 - lr: 8.1000e-04\n",
      "Epoch 39/100\n",
      "50/50 [==============================] - 0s 7ms/step - loss: 8.8851e-05 - val_loss: 1.9958e-04 - lr: 8.1000e-04\n",
      "Epoch 40/100\n",
      "50/50 [==============================] - 0s 7ms/step - loss: 8.4728e-05 - val_loss: 1.9879e-04 - lr: 8.1000e-04\n",
      "Epoch 41/100\n",
      "50/50 [==============================] - 0s 7ms/step - loss: 8.2947e-05 - val_loss: 1.9149e-04 - lr: 8.1000e-04\n",
      "Epoch 42/100\n",
      "50/50 [==============================] - 0s 7ms/step - loss: 8.1540e-05 - val_loss: 1.8846e-04 - lr: 8.1000e-04\n",
      "Epoch 43/100\n",
      "50/50 [==============================] - 0s 7ms/step - loss: 8.4914e-05 - val_loss: 1.8760e-04 - lr: 8.1000e-04\n",
      "Epoch 44/100\n",
      "50/50 [==============================] - 0s 7ms/step - loss: 8.7270e-05 - val_loss: 1.9497e-04 - lr: 8.1000e-04\n",
      "Epoch 45/100\n",
      "50/50 [==============================] - 0s 7ms/step - loss: 8.4607e-05 - val_loss: 1.8376e-04 - lr: 8.1000e-04\n",
      "Epoch 46/100\n",
      "50/50 [==============================] - 0s 7ms/step - loss: 8.6523e-05 - val_loss: 2.0205e-04 - lr: 7.2900e-04\n",
      "Epoch 47/100\n",
      "50/50 [==============================] - 0s 7ms/step - loss: 9.2731e-05 - val_loss: 1.8225e-04 - lr: 7.2900e-04\n",
      "Epoch 48/100\n",
      "50/50 [==============================] - 0s 7ms/step - loss: 8.5234e-05 - val_loss: 2.2964e-04 - lr: 7.2900e-04\n",
      "Epoch 49/100\n",
      "50/50 [==============================] - 0s 7ms/step - loss: 8.0855e-05 - val_loss: 1.8607e-04 - lr: 7.2900e-04\n",
      "Epoch 50/100\n",
      "50/50 [==============================] - 0s 7ms/step - loss: 8.1166e-05 - val_loss: 1.8841e-04 - lr: 7.2900e-04\n",
      "Epoch 51/100\n",
      "50/50 [==============================] - 0s 7ms/step - loss: 8.7536e-05 - val_loss: 2.7261e-04 - lr: 7.2900e-04\n",
      "Epoch 52/100\n",
      "50/50 [==============================] - 0s 7ms/step - loss: 8.3244e-05 - val_loss: 1.7451e-04 - lr: 7.2900e-04\n",
      "Epoch 53/100\n",
      "50/50 [==============================] - 0s 7ms/step - loss: 7.8585e-05 - val_loss: 1.7393e-04 - lr: 7.2900e-04\n",
      "Epoch 54/100\n",
      "50/50 [==============================] - 0s 7ms/step - loss: 7.7309e-05 - val_loss: 2.0038e-04 - lr: 7.2900e-04\n",
      "Epoch 55/100\n",
      "50/50 [==============================] - 0s 7ms/step - loss: 7.7684e-05 - val_loss: 1.8678e-04 - lr: 7.2900e-04\n",
      "Epoch 56/100\n",
      "50/50 [==============================] - 0s 7ms/step - loss: 7.6345e-05 - val_loss: 2.0078e-04 - lr: 7.2900e-04\n",
      "Epoch 57/100\n",
      "50/50 [==============================] - 0s 7ms/step - loss: 8.7318e-05 - val_loss: 1.8457e-04 - lr: 7.2900e-04\n",
      "Epoch 58/100\n",
      "50/50 [==============================] - 0s 7ms/step - loss: 7.9173e-05 - val_loss: 1.7718e-04 - lr: 7.2900e-04\n",
      "Epoch 59/100\n",
      "50/50 [==============================] - 0s 7ms/step - loss: 7.7699e-05 - val_loss: 1.6832e-04 - lr: 7.2900e-04\n",
      "Epoch 60/100\n",
      "50/50 [==============================] - 0s 7ms/step - loss: 7.3648e-05 - val_loss: 1.6579e-04 - lr: 7.2900e-04\n",
      "Epoch 61/100\n",
      "50/50 [==============================] - 0s 7ms/step - loss: 7.2500e-05 - val_loss: 1.7028e-04 - lr: 6.5610e-04\n",
      "Epoch 62/100\n",
      "50/50 [==============================] - 0s 7ms/step - loss: 7.7954e-05 - val_loss: 1.6354e-04 - lr: 6.5610e-04\n",
      "Epoch 63/100\n",
      "50/50 [==============================] - 0s 7ms/step - loss: 7.5517e-05 - val_loss: 1.6540e-04 - lr: 6.5610e-04\n",
      "Epoch 64/100\n",
      "50/50 [==============================] - 0s 7ms/step - loss: 7.8356e-05 - val_loss: 1.8706e-04 - lr: 6.5610e-04\n",
      "Epoch 65/100\n",
      "50/50 [==============================] - 0s 7ms/step - loss: 7.6402e-05 - val_loss: 1.7654e-04 - lr: 6.5610e-04\n",
      "Epoch 66/100\n",
      "50/50 [==============================] - 0s 7ms/step - loss: 8.0690e-05 - val_loss: 1.8283e-04 - lr: 6.5610e-04\n",
      "Epoch 67/100\n",
      "50/50 [==============================] - 0s 7ms/step - loss: 7.6586e-05 - val_loss: 1.8072e-04 - lr: 6.5610e-04\n",
      "Epoch 68/100\n",
      "50/50 [==============================] - 0s 7ms/step - loss: 7.3204e-05 - val_loss: 1.5995e-04 - lr: 6.5610e-04\n",
      "Epoch 69/100\n",
      "50/50 [==============================] - 0s 7ms/step - loss: 7.4432e-05 - val_loss: 1.8235e-04 - lr: 6.5610e-04\n",
      "Epoch 70/100\n",
      "50/50 [==============================] - 0s 7ms/step - loss: 7.0918e-05 - val_loss: 1.6956e-04 - lr: 6.5610e-04\n",
      "Epoch 71/100\n",
      "50/50 [==============================] - 0s 7ms/step - loss: 7.0159e-05 - val_loss: 1.7307e-04 - lr: 6.5610e-04\n",
      "Epoch 72/100\n",
      "50/50 [==============================] - 0s 7ms/step - loss: 7.4957e-05 - val_loss: 1.6298e-04 - lr: 6.5610e-04\n",
      "Epoch 73/100\n",
      "50/50 [==============================] - 0s 7ms/step - loss: 7.2371e-05 - val_loss: 1.5822e-04 - lr: 6.5610e-04\n",
      "Epoch 74/100\n",
      "50/50 [==============================] - 0s 7ms/step - loss: 7.2553e-05 - val_loss: 1.7181e-04 - lr: 6.5610e-04\n",
      "Epoch 75/100\n",
      "50/50 [==============================] - 0s 8ms/step - loss: 7.4996e-05 - val_loss: 1.6827e-04 - lr: 6.5610e-04\n",
      "Epoch 76/100\n",
      "50/50 [==============================] - 0s 7ms/step - loss: 7.9463e-05 - val_loss: 1.5775e-04 - lr: 5.9049e-04\n",
      "Epoch 77/100\n",
      "50/50 [==============================] - 0s 7ms/step - loss: 6.9372e-05 - val_loss: 1.5416e-04 - lr: 5.9049e-04\n",
      "Epoch 78/100\n",
      "50/50 [==============================] - 0s 7ms/step - loss: 6.9556e-05 - val_loss: 1.6453e-04 - lr: 5.9049e-04\n",
      "Epoch 79/100\n",
      "50/50 [==============================] - 0s 7ms/step - loss: 7.6627e-05 - val_loss: 1.6170e-04 - lr: 5.9049e-04\n",
      "Epoch 80/100\n",
      "50/50 [==============================] - 0s 7ms/step - loss: 7.3097e-05 - val_loss: 1.5407e-04 - lr: 5.9049e-04\n",
      "Epoch 81/100\n",
      "50/50 [==============================] - 0s 7ms/step - loss: 7.4318e-05 - val_loss: 1.8314e-04 - lr: 5.9049e-04\n",
      "Epoch 82/100\n",
      "50/50 [==============================] - 0s 7ms/step - loss: 7.3035e-05 - val_loss: 3.2847e-04 - lr: 5.9049e-04\n",
      "Epoch 83/100\n",
      "50/50 [==============================] - 0s 7ms/step - loss: 8.9104e-05 - val_loss: 1.9244e-04 - lr: 5.9049e-04\n",
      "Epoch 84/100\n",
      "50/50 [==============================] - 0s 7ms/step - loss: 6.9293e-05 - val_loss: 1.5263e-04 - lr: 5.9049e-04\n",
      "Epoch 85/100\n",
      "50/50 [==============================] - 0s 8ms/step - loss: 6.8576e-05 - val_loss: 1.7513e-04 - lr: 5.9049e-04\n",
      "Epoch 86/100\n",
      "50/50 [==============================] - 0s 7ms/step - loss: 7.2731e-05 - val_loss: 2.2056e-04 - lr: 5.9049e-04\n",
      "Epoch 87/100\n",
      "50/50 [==============================] - 0s 7ms/step - loss: 7.7529e-05 - val_loss: 2.5177e-04 - lr: 5.9049e-04\n",
      "Epoch 88/100\n",
      "50/50 [==============================] - 0s 7ms/step - loss: 7.0087e-05 - val_loss: 1.5118e-04 - lr: 5.9049e-04\n",
      "Epoch 89/100\n",
      "50/50 [==============================] - 0s 7ms/step - loss: 6.8028e-05 - val_loss: 1.5202e-04 - lr: 5.9049e-04\n",
      "Epoch 90/100\n",
      "50/50 [==============================] - 0s 7ms/step - loss: 7.2562e-05 - val_loss: 1.5495e-04 - lr: 5.9049e-04\n",
      "Epoch 91/100\n",
      "50/50 [==============================] - 0s 7ms/step - loss: 7.1348e-05 - val_loss: 1.5056e-04 - lr: 5.3144e-04\n",
      "Epoch 92/100\n",
      "50/50 [==============================] - 0s 7ms/step - loss: 7.2714e-05 - val_loss: 2.4059e-04 - lr: 5.3144e-04\n",
      "Epoch 93/100\n",
      "50/50 [==============================] - 0s 7ms/step - loss: 7.6912e-05 - val_loss: 2.0385e-04 - lr: 5.3144e-04\n",
      "Epoch 94/100\n",
      "50/50 [==============================] - 0s 7ms/step - loss: 7.5946e-05 - val_loss: 1.5179e-04 - lr: 5.3144e-04\n",
      "Epoch 95/100\n",
      "50/50 [==============================] - 0s 7ms/step - loss: 6.9377e-05 - val_loss: 1.6300e-04 - lr: 5.3144e-04\n",
      "Epoch 96/100\n",
      "50/50 [==============================] - 0s 7ms/step - loss: 6.9153e-05 - val_loss: 1.5189e-04 - lr: 5.3144e-04\n",
      "Epoch 97/100\n",
      "50/50 [==============================] - 0s 8ms/step - loss: 7.5350e-05 - val_loss: 1.9575e-04 - lr: 5.3144e-04\n",
      "Epoch 98/100\n",
      "50/50 [==============================] - 0s 7ms/step - loss: 7.0307e-05 - val_loss: 1.5915e-04 - lr: 5.3144e-04\n",
      "Epoch 99/100\n",
      "50/50 [==============================] - 0s 7ms/step - loss: 6.7376e-05 - val_loss: 1.4986e-04 - lr: 5.3144e-04\n",
      "Epoch 100/100\n",
      "50/50 [==============================] - 0s 7ms/step - loss: 6.7194e-05 - val_loss: 1.6302e-04 - lr: 5.3144e-04\n"
     ]
    }
   ],
   "source": [
    "history = model.fit(X_train_seq, y_train_seq, epochs=100, validation_data=(X_val_seq, y_val_seq), callbacks=[lr_callback])\n"
   ]
  },
  {
   "cell_type": "code",
   "execution_count": 18,
   "metadata": {},
   "outputs": [
    {
     "name": "stdout",
     "output_type": "stream",
     "text": [
      "6/6 [==============================] - 0s 3ms/step\n",
      "6/6 [==============================] - 0s 3ms/step\n"
     ]
    }
   ],
   "source": [
    "validation_prediction=model.predict(X_val_seq)\n",
    "test_predict=model.predict(X_test_seq)"
   ]
  },
  {
   "cell_type": "markdown",
   "metadata": {},
   "source": [
    "We scale the prediction to initial values"
   ]
  },
  {
   "cell_type": "code",
   "execution_count": 19,
   "metadata": {},
   "outputs": [],
   "source": [
    "y_valid_inversed = close_scaler.inverse_transform(validation_prediction)\n",
    "y_test_inversed = close_scaler.inverse_transform(test_predict)"
   ]
  },
  {
   "cell_type": "code",
   "execution_count": 20,
   "metadata": {},
   "outputs": [],
   "source": [
    "y_test_original = close_scaler.inverse_transform(y_test)"
   ]
  },
  {
   "cell_type": "markdown",
   "metadata": {},
   "source": [
    "We plot the prediction and the initial data"
   ]
  },
  {
   "cell_type": "code",
   "execution_count": 21,
   "metadata": {},
   "outputs": [
    {
     "data": {
      "image/png": "[encoded data removed]",
      "text/plain": [
       "<Figure size 640x480 with 1 Axes>"
      ]
     },
     "metadata": {},
     "output_type": "display_data"
    }
   ],
   "source": [
    "import numpy as np\n",
    "import matplotlib.pyplot as plt\n",
    "\n",
    "# Assuming you have defined y_train, y_test, validation_prediction, and test_predict\n",
    "\n",
    "# Calculate the starting index for test data in the x-axis\n",
    "start_index = y_train.shape[0] + y_val.shape[0]\n",
    "end_index_first_plot = start_index + y_test.shape[0]\n",
    "x_values_second_plot = np.arange(end_index_first_plot - test_predict.shape[0]-1, end_index_first_plot-1)\n",
    "\n",
    "\n",
    "# Plotting\n",
    "plt.plot(np.arange(start_index, start_index + y_test.shape[0]),\n",
    "         y_test_original, color='black', label='test target')\n",
    "\n",
    "plt.plot(x_values_second_plot,\n",
    "         y_test_inversed, color='green', label='test prediction')\n",
    "\n",
    "plt.title('Future Stock Prices')\n",
    "plt.xlabel('Time [Days]')\n",
    "plt.ylabel('Normalized Price')\n",
    "plt.legend(loc='best')\n",
    "\n",
    "plt.show()\n"
   ]
  },
  {
   "cell_type": "markdown",
   "metadata": {},
   "source": [
    "## GRU model"
   ]
  },
  {
   "cell_type": "markdown",
   "metadata": {},
   "source": [
    "We will create a GRU model to see how it will perform"
   ]
  },
  {
   "cell_type": "code",
   "execution_count": 22,
   "metadata": {},
   "outputs": [],
   "source": [
    "gru_model = Sequential([\n",
    "    GRU(units=128, activation='relu', input_shape=(time_steps, 4)),\n",
    "    #Dropout(0.2),  # Dropout layer for regularization\n",
    "    Dense(units=1)  # Output layer for regression task\n",
    "])"
   ]
  },
  {
   "cell_type": "markdown",
   "metadata": {},
   "source": [
    "Define optimizer and compile the model"
   ]
  },
  {
   "cell_type": "code",
   "execution_count": 23,
   "metadata": {},
   "outputs": [],
   "source": [
    "opt = Adam(learning_rate=0.001)  # Adjust learning rate if necessary\n",
    "gru_model.compile(optimizer=opt, loss='mean_squared_error')\n",
    "\n",
    "# Define a learning rate scheduler\n",
    "def lr_scheduler(epoch, lr):\n",
    "    if epoch % 10 == 0 and epoch != 0:\n",
    "        lr = lr * 0.9  # Decrease learning rate by 10% every 10 epochs\n",
    "    return lr\n",
    "\n",
    "lr_callback = LearningRateScheduler(lr_scheduler)"
   ]
  },
  {
   "cell_type": "markdown",
   "metadata": {},
   "source": [
    "Model training"
   ]
  },
  {
   "cell_type": "code",
   "execution_count": 24,
   "metadata": {},
   "outputs": [
    {
     "name": "stdout",
     "output_type": "stream",
     "text": [
      "Epoch 1/100\n",
      "50/50 [==============================] - 2s 11ms/step - loss: 0.0214 - val_loss: 3.2415e-04 - lr: 0.0010\n",
      "Epoch 2/100\n",
      "50/50 [==============================] - 0s 7ms/step - loss: 1.4307e-04 - val_loss: 2.7085e-04 - lr: 0.0010\n",
      "Epoch 3/100\n",
      "50/50 [==============================] - 0s 6ms/step - loss: 1.0881e-04 - val_loss: 2.5936e-04 - lr: 0.0010\n",
      "Epoch 4/100\n",
      "50/50 [==============================] - 0s 6ms/step - loss: 9.9811e-05 - val_loss: 2.5268e-04 - lr: 0.0010\n",
      "Epoch 5/100\n",
      "50/50 [==============================] - 0s 6ms/step - loss: 1.0034e-04 - val_loss: 2.6699e-04 - lr: 0.0010\n",
      "Epoch 6/100\n",
      "50/50 [==============================] - 0s 6ms/step - loss: 9.6473e-05 - val_loss: 2.5232e-04 - lr: 0.0010\n",
      "Epoch 7/100\n",
      "50/50 [==============================] - 0s 6ms/step - loss: 9.7874e-05 - val_loss: 2.4034e-04 - lr: 0.0010\n",
      "Epoch 8/100\n",
      "50/50 [==============================] - 0s 6ms/step - loss: 9.7389e-05 - val_loss: 2.3632e-04 - lr: 0.0010\n",
      "Epoch 9/100\n",
      "50/50 [==============================] - 0s 6ms/step - loss: 9.4941e-05 - val_loss: 2.3308e-04 - lr: 0.0010\n",
      "Epoch 10/100\n",
      "50/50 [==============================] - 0s 6ms/step - loss: 9.2425e-05 - val_loss: 2.2831e-04 - lr: 0.0010\n",
      "Epoch 11/100\n",
      "50/50 [==============================] - 0s 7ms/step - loss: 9.6324e-05 - val_loss: 2.2453e-04 - lr: 9.0000e-04\n",
      "Epoch 12/100\n",
      "50/50 [==============================] - 0s 6ms/step - loss: 9.5348e-05 - val_loss: 2.1367e-04 - lr: 9.0000e-04\n",
      "Epoch 13/100\n",
      "50/50 [==============================] - 0s 6ms/step - loss: 8.7487e-05 - val_loss: 2.1040e-04 - lr: 9.0000e-04\n",
      "Epoch 14/100\n",
      "50/50 [==============================] - 0s 6ms/step - loss: 8.6547e-05 - val_loss: 2.1293e-04 - lr: 9.0000e-04\n",
      "Epoch 15/100\n",
      "50/50 [==============================] - 0s 6ms/step - loss: 9.3593e-05 - val_loss: 2.1754e-04 - lr: 9.0000e-04\n",
      "Epoch 16/100\n",
      "50/50 [==============================] - 0s 6ms/step - loss: 8.8428e-05 - val_loss: 2.0814e-04 - lr: 9.0000e-04\n",
      "Epoch 17/100\n",
      "50/50 [==============================] - 0s 6ms/step - loss: 1.0174e-04 - val_loss: 2.1567e-04 - lr: 9.0000e-04\n",
      "Epoch 18/100\n",
      "50/50 [==============================] - 0s 6ms/step - loss: 9.0215e-05 - val_loss: 1.9931e-04 - lr: 9.0000e-04\n",
      "Epoch 19/100\n",
      "50/50 [==============================] - 0s 6ms/step - loss: 8.4675e-05 - val_loss: 1.9840e-04 - lr: 9.0000e-04\n",
      "Epoch 20/100\n",
      "50/50 [==============================] - 0s 6ms/step - loss: 8.3751e-05 - val_loss: 1.9490e-04 - lr: 9.0000e-04\n",
      "Epoch 21/100\n",
      "50/50 [==============================] - 0s 6ms/step - loss: 8.7376e-05 - val_loss: 2.0051e-04 - lr: 8.1000e-04\n",
      "Epoch 22/100\n",
      "50/50 [==============================] - 0s 6ms/step - loss: 8.1424e-05 - val_loss: 2.0586e-04 - lr: 8.1000e-04\n",
      "Epoch 23/100\n",
      "50/50 [==============================] - 0s 6ms/step - loss: 8.5654e-05 - val_loss: 2.0232e-04 - lr: 8.1000e-04\n",
      "Epoch 24/100\n",
      "50/50 [==============================] - 0s 6ms/step - loss: 8.5593e-05 - val_loss: 1.8940e-04 - lr: 8.1000e-04\n",
      "Epoch 25/100\n",
      "50/50 [==============================] - 0s 6ms/step - loss: 9.4915e-05 - val_loss: 1.9501e-04 - lr: 8.1000e-04\n",
      "Epoch 26/100\n",
      "50/50 [==============================] - 0s 6ms/step - loss: 8.0192e-05 - val_loss: 1.8444e-04 - lr: 8.1000e-04\n",
      "Epoch 27/100\n",
      "50/50 [==============================] - 0s 6ms/step - loss: 8.2103e-05 - val_loss: 1.8316e-04 - lr: 8.1000e-04\n",
      "Epoch 28/100\n",
      "50/50 [==============================] - 0s 6ms/step - loss: 8.2182e-05 - val_loss: 2.2184e-04 - lr: 8.1000e-04\n",
      "Epoch 29/100\n",
      "50/50 [==============================] - 0s 6ms/step - loss: 8.5822e-05 - val_loss: 1.8334e-04 - lr: 8.1000e-04\n",
      "Epoch 30/100\n",
      "50/50 [==============================] - 0s 6ms/step - loss: 7.6368e-05 - val_loss: 1.8071e-04 - lr: 8.1000e-04\n",
      "Epoch 31/100\n",
      "50/50 [==============================] - 0s 6ms/step - loss: 8.8939e-05 - val_loss: 2.2063e-04 - lr: 7.2900e-04\n",
      "Epoch 32/100\n",
      "50/50 [==============================] - 0s 6ms/step - loss: 8.1045e-05 - val_loss: 2.1851e-04 - lr: 7.2900e-04\n",
      "Epoch 33/100\n",
      "50/50 [==============================] - 0s 6ms/step - loss: 8.1164e-05 - val_loss: 1.9937e-04 - lr: 7.2900e-04\n",
      "Epoch 34/100\n",
      "50/50 [==============================] - 0s 6ms/step - loss: 8.5606e-05 - val_loss: 1.8081e-04 - lr: 7.2900e-04\n",
      "Epoch 35/100\n",
      "50/50 [==============================] - 0s 6ms/step - loss: 8.0408e-05 - val_loss: 1.7580e-04 - lr: 7.2900e-04\n",
      "Epoch 36/100\n",
      "50/50 [==============================] - 0s 6ms/step - loss: 7.9045e-05 - val_loss: 2.6353e-04 - lr: 7.2900e-04\n",
      "Epoch 37/100\n",
      "50/50 [==============================] - 0s 6ms/step - loss: 8.0375e-05 - val_loss: 1.7357e-04 - lr: 7.2900e-04\n",
      "Epoch 38/100\n",
      "50/50 [==============================] - 0s 6ms/step - loss: 7.7167e-05 - val_loss: 1.9929e-04 - lr: 7.2900e-04\n",
      "Epoch 39/100\n",
      "50/50 [==============================] - 0s 6ms/step - loss: 7.8858e-05 - val_loss: 1.7873e-04 - lr: 7.2900e-04\n",
      "Epoch 40/100\n",
      "50/50 [==============================] - 0s 7ms/step - loss: 7.9364e-05 - val_loss: 1.7632e-04 - lr: 7.2900e-04\n",
      "Epoch 41/100\n",
      "50/50 [==============================] - 0s 7ms/step - loss: 7.7842e-05 - val_loss: 1.7901e-04 - lr: 6.5610e-04\n",
      "Epoch 42/100\n",
      "50/50 [==============================] - 0s 6ms/step - loss: 7.9174e-05 - val_loss: 1.6994e-04 - lr: 6.5610e-04\n",
      "Epoch 43/100\n",
      "50/50 [==============================] - 0s 6ms/step - loss: 7.6840e-05 - val_loss: 1.7032e-04 - lr: 6.5610e-04\n",
      "Epoch 44/100\n",
      "50/50 [==============================] - 0s 6ms/step - loss: 7.7530e-05 - val_loss: 1.8926e-04 - lr: 6.5610e-04\n",
      "Epoch 45/100\n",
      "50/50 [==============================] - 0s 7ms/step - loss: 7.3480e-05 - val_loss: 1.6730e-04 - lr: 6.5610e-04\n",
      "Epoch 46/100\n",
      "50/50 [==============================] - 0s 9ms/step - loss: 7.3830e-05 - val_loss: 1.6708e-04 - lr: 6.5610e-04\n",
      "Epoch 47/100\n",
      "50/50 [==============================] - 0s 10ms/step - loss: 7.1442e-05 - val_loss: 1.6802e-04 - lr: 6.5610e-04\n",
      "Epoch 48/100\n",
      "50/50 [==============================] - 0s 6ms/step - loss: 7.3954e-05 - val_loss: 1.7390e-04 - lr: 6.5610e-04\n",
      "Epoch 49/100\n",
      "50/50 [==============================] - 0s 8ms/step - loss: 7.2500e-05 - val_loss: 1.6467e-04 - lr: 6.5610e-04\n",
      "Epoch 50/100\n",
      "50/50 [==============================] - 0s 7ms/step - loss: 7.3171e-05 - val_loss: 1.7553e-04 - lr: 6.5610e-04\n",
      "Epoch 51/100\n",
      "50/50 [==============================] - 0s 6ms/step - loss: 7.4365e-05 - val_loss: 1.7447e-04 - lr: 5.9049e-04\n",
      "Epoch 52/100\n",
      "50/50 [==============================] - 0s 8ms/step - loss: 8.2246e-05 - val_loss: 1.6299e-04 - lr: 5.9049e-04\n",
      "Epoch 53/100\n",
      "50/50 [==============================] - 0s 8ms/step - loss: 7.3364e-05 - val_loss: 1.7531e-04 - lr: 5.9049e-04\n",
      "Epoch 54/100\n",
      "50/50 [==============================] - 0s 6ms/step - loss: 7.2602e-05 - val_loss: 1.6438e-04 - lr: 5.9049e-04\n",
      "Epoch 55/100\n",
      "50/50 [==============================] - 0s 8ms/step - loss: 7.1498e-05 - val_loss: 1.6119e-04 - lr: 5.9049e-04\n",
      "Epoch 56/100\n",
      "50/50 [==============================] - 0s 8ms/step - loss: 6.9643e-05 - val_loss: 1.6330e-04 - lr: 5.9049e-04\n",
      "Epoch 57/100\n",
      "50/50 [==============================] - 1s 12ms/step - loss: 7.1118e-05 - val_loss: 1.6412e-04 - lr: 5.9049e-04\n",
      "Epoch 58/100\n",
      "50/50 [==============================] - 0s 9ms/step - loss: 7.9397e-05 - val_loss: 1.8064e-04 - lr: 5.9049e-04\n",
      "Epoch 59/100\n",
      "50/50 [==============================] - 1s 12ms/step - loss: 7.7566e-05 - val_loss: 1.7105e-04 - lr: 5.9049e-04\n",
      "Epoch 60/100\n",
      "50/50 [==============================] - 1s 12ms/step - loss: 7.3134e-05 - val_loss: 1.6405e-04 - lr: 5.9049e-04\n",
      "Epoch 61/100\n",
      "50/50 [==============================] - 0s 10ms/step - loss: 8.0193e-05 - val_loss: 2.3406e-04 - lr: 5.3144e-04\n",
      "Epoch 62/100\n",
      "50/50 [==============================] - 0s 8ms/step - loss: 7.8692e-05 - val_loss: 1.6224e-04 - lr: 5.3144e-04\n",
      "Epoch 63/100\n",
      "50/50 [==============================] - 1s 14ms/step - loss: 7.8493e-05 - val_loss: 1.7872e-04 - lr: 5.3144e-04\n",
      "Epoch 64/100\n",
      "50/50 [==============================] - 0s 8ms/step - loss: 7.0775e-05 - val_loss: 1.5853e-04 - lr: 5.3144e-04\n",
      "Epoch 65/100\n",
      "50/50 [==============================] - 0s 7ms/step - loss: 7.1091e-05 - val_loss: 1.6171e-04 - lr: 5.3144e-04\n",
      "Epoch 66/100\n",
      "50/50 [==============================] - 0s 7ms/step - loss: 7.6540e-05 - val_loss: 1.6793e-04 - lr: 5.3144e-04\n",
      "Epoch 67/100\n",
      "50/50 [==============================] - 0s 7ms/step - loss: 7.5485e-05 - val_loss: 1.5651e-04 - lr: 5.3144e-04\n",
      "Epoch 68/100\n",
      "50/50 [==============================] - 0s 7ms/step - loss: 7.1429e-05 - val_loss: 1.6314e-04 - lr: 5.3144e-04\n",
      "Epoch 69/100\n",
      "50/50 [==============================] - 0s 7ms/step - loss: 7.8172e-05 - val_loss: 1.5556e-04 - lr: 5.3144e-04\n",
      "Epoch 70/100\n",
      "50/50 [==============================] - 0s 7ms/step - loss: 7.1789e-05 - val_loss: 1.6385e-04 - lr: 5.3144e-04\n",
      "Epoch 71/100\n",
      "50/50 [==============================] - 0s 7ms/step - loss: 7.3957e-05 - val_loss: 1.8815e-04 - lr: 4.7830e-04\n",
      "Epoch 72/100\n",
      "50/50 [==============================] - 0s 8ms/step - loss: 7.1973e-05 - val_loss: 2.3503e-04 - lr: 4.7830e-04\n",
      "Epoch 73/100\n",
      "50/50 [==============================] - 0s 7ms/step - loss: 8.1655e-05 - val_loss: 1.5502e-04 - lr: 4.7830e-04\n",
      "Epoch 74/100\n",
      "50/50 [==============================] - 0s 10ms/step - loss: 6.8433e-05 - val_loss: 1.5529e-04 - lr: 4.7830e-04\n",
      "Epoch 75/100\n",
      "50/50 [==============================] - 1s 11ms/step - loss: 7.6042e-05 - val_loss: 1.5562e-04 - lr: 4.7830e-04\n",
      "Epoch 76/100\n",
      "50/50 [==============================] - 0s 7ms/step - loss: 7.1531e-05 - val_loss: 1.8503e-04 - lr: 4.7830e-04\n",
      "Epoch 77/100\n",
      "50/50 [==============================] - 1s 11ms/step - loss: 7.0509e-05 - val_loss: 1.5449e-04 - lr: 4.7830e-04\n",
      "Epoch 78/100\n",
      "50/50 [==============================] - 0s 8ms/step - loss: 6.8182e-05 - val_loss: 1.5908e-04 - lr: 4.7830e-04\n",
      "Epoch 79/100\n",
      "50/50 [==============================] - 0s 8ms/step - loss: 6.7292e-05 - val_loss: 1.7821e-04 - lr: 4.7830e-04\n",
      "Epoch 80/100\n",
      "50/50 [==============================] - 0s 6ms/step - loss: 6.8472e-05 - val_loss: 1.6928e-04 - lr: 4.7830e-04\n",
      "Epoch 81/100\n",
      "50/50 [==============================] - 0s 8ms/step - loss: 7.0305e-05 - val_loss: 1.6034e-04 - lr: 4.3047e-04\n",
      "Epoch 82/100\n",
      "50/50 [==============================] - 0s 7ms/step - loss: 6.9361e-05 - val_loss: 1.5290e-04 - lr: 4.3047e-04\n",
      "Epoch 83/100\n",
      "50/50 [==============================] - 0s 6ms/step - loss: 6.9172e-05 - val_loss: 1.5315e-04 - lr: 4.3047e-04\n",
      "Epoch 84/100\n",
      "50/50 [==============================] - 0s 7ms/step - loss: 6.9680e-05 - val_loss: 1.5160e-04 - lr: 4.3047e-04\n",
      "Epoch 85/100\n",
      "50/50 [==============================] - 0s 6ms/step - loss: 7.1922e-05 - val_loss: 1.5258e-04 - lr: 4.3047e-04\n",
      "Epoch 86/100\n",
      "50/50 [==============================] - 0s 8ms/step - loss: 7.0042e-05 - val_loss: 1.5376e-04 - lr: 4.3047e-04\n",
      "Epoch 87/100\n",
      "50/50 [==============================] - 0s 6ms/step - loss: 7.1484e-05 - val_loss: 1.5450e-04 - lr: 4.3047e-04\n",
      "Epoch 88/100\n",
      "50/50 [==============================] - 0s 7ms/step - loss: 7.5578e-05 - val_loss: 1.7105e-04 - lr: 4.3047e-04\n",
      "Epoch 89/100\n",
      "50/50 [==============================] - 1s 14ms/step - loss: 6.8669e-05 - val_loss: 1.5638e-04 - lr: 4.3047e-04\n",
      "Epoch 90/100\n",
      "50/50 [==============================] - 1s 11ms/step - loss: 6.7641e-05 - val_loss: 1.5146e-04 - lr: 4.3047e-04\n",
      "Epoch 91/100\n",
      "50/50 [==============================] - 1s 12ms/step - loss: 6.9103e-05 - val_loss: 1.5075e-04 - lr: 3.8742e-04\n",
      "Epoch 92/100\n",
      "50/50 [==============================] - 1s 12ms/step - loss: 6.8286e-05 - val_loss: 1.6271e-04 - lr: 3.8742e-04\n",
      "Epoch 93/100\n",
      "50/50 [==============================] - 0s 6ms/step - loss: 7.6313e-05 - val_loss: 1.6894e-04 - lr: 3.8742e-04\n",
      "Epoch 94/100\n",
      "50/50 [==============================] - 0s 6ms/step - loss: 6.7602e-05 - val_loss: 1.6151e-04 - lr: 3.8742e-04\n",
      "Epoch 95/100\n",
      "50/50 [==============================] - 0s 7ms/step - loss: 6.9429e-05 - val_loss: 1.5217e-04 - lr: 3.8742e-04\n",
      "Epoch 96/100\n",
      "50/50 [==============================] - 0s 7ms/step - loss: 6.9319e-05 - val_loss: 1.5599e-04 - lr: 3.8742e-04\n",
      "Epoch 97/100\n",
      "50/50 [==============================] - 0s 6ms/step - loss: 7.1464e-05 - val_loss: 1.5977e-04 - lr: 3.8742e-04\n",
      "Epoch 98/100\n",
      "50/50 [==============================] - 0s 6ms/step - loss: 7.0492e-05 - val_loss: 1.5425e-04 - lr: 3.8742e-04\n",
      "Epoch 99/100\n",
      "50/50 [==============================] - 0s 6ms/step - loss: 7.2380e-05 - val_loss: 1.5480e-04 - lr: 3.8742e-04\n",
      "Epoch 100/100\n",
      "50/50 [==============================] - 0s 6ms/step - loss: 6.8253e-05 - val_loss: 1.6656e-04 - lr: 3.8742e-04\n"
     ]
    }
   ],
   "source": [
    "gru_history = gru_model.fit(X_train_seq, y_train_seq, epochs=100, validation_data=(X_val_seq, y_val_seq), callbacks=[lr_callback])"
   ]
  },
  {
   "cell_type": "code",
   "execution_count": 25,
   "metadata": {},
   "outputs": [
    {
     "name": "stdout",
     "output_type": "stream",
     "text": [
      "6/6 [==============================] - 0s 4ms/step\n",
      "6/6 [==============================] - 0s 5ms/step\n"
     ]
    }
   ],
   "source": [
    "validation_prediction=gru_model.predict(X_val_seq)\n",
    "test_predict=gru_model.predict(X_test_seq)"
   ]
  },
  {
   "cell_type": "markdown",
   "metadata": {},
   "source": [
    "Scale the data to initial state"
   ]
  },
  {
   "cell_type": "code",
   "execution_count": 26,
   "metadata": {},
   "outputs": [],
   "source": [
    "y_valid_inversed = close_scaler.inverse_transform(validation_prediction)\n",
    "y_test_inversed = close_scaler.inverse_transform(test_predict)"
   ]
  },
  {
   "cell_type": "code",
   "execution_count": 27,
   "metadata": {},
   "outputs": [],
   "source": [
    "y_test_original = close_scaler.inverse_transform(y_test)"
   ]
  },
  {
   "cell_type": "markdown",
   "metadata": {},
   "source": [
    "Plot the prediction and the initial data"
   ]
  },
  {
   "cell_type": "code",
   "execution_count": 28,
   "metadata": {},
   "outputs": [
    {
     "data": {
      "image/png": "[encoded data removed]",
      "text/plain": [
       "<Figure size 640x480 with 1 Axes>"
      ]
     },
     "metadata": {},
     "output_type": "display_data"
    }
   ],
   "source": [
    "import numpy as np\n",
    "import matplotlib.pyplot as plt\n",
    "\n",
    "# Assuming you have defined y_train, y_test, validation_prediction, and test_predict\n",
    "\n",
    "# Calculate the starting index for test data in the x-axis\n",
    "start_index = y_train.shape[0] + y_val.shape[0]\n",
    "end_index_first_plot = start_index + y_test.shape[0]\n",
    "x_values_second_plot = np.arange(end_index_first_plot - test_predict.shape[0], end_index_first_plot)\n",
    "\n",
    "\n",
    "# Plotting\n",
    "plt.plot(np.arange(start_index, start_index + y_test.shape[0]),\n",
    "         y_test_original, color='black', label='test target')\n",
    "\n",
    "plt.plot(x_values_second_plot,\n",
    "         y_test_inversed, color='green', label='test prediction')\n",
    "\n",
    "plt.title('Future Stock Prices')\n",
    "plt.xlabel('Time [Days]')\n",
    "plt.ylabel('Normalized Price')\n",
    "plt.legend(loc='best')\n",
    "\n",
    "plt.show()"
   ]
  },
  {
   "cell_type": "code",
   "execution_count": 29,
   "metadata": {},
   "outputs": [
    {
     "name": "stdout",
     "output_type": "stream",
     "text": [
      "[[0.98224086 0.96416403 0.95310184 0.94086207]\n",
      " [0.95266926 0.94015897 0.94701993 0.93939477]\n",
      " [0.96114519 0.95235955 0.95742668 0.95786722]\n",
      " [0.96609621 0.95404972 0.96307608 0.9502162 ]\n",
      " [0.954795   0.94153217 0.95477772 0.94576183]\n",
      " [0.96518135 0.96764993 0.96972569 0.97395521]\n",
      " [0.99338071 0.97454244 0.98232199 0.97348359]\n",
      " [0.99913893 1.         1.         1.        ]\n",
      " [0.99658274 0.98621491 0.9859441  0.97694227]\n",
      " [0.98302121 0.98127658 0.98862011 0.97930044]]\n"
     ]
    }
   ],
   "source": [
    "last_sequence = X_test_seq[-1]\n",
    "print(last_sequence)\n"
   ]
  },
  {
   "cell_type": "markdown",
   "metadata": {},
   "source": [
    "Actual price from today compared with both models"
   ]
  },
  {
   "cell_type": "code",
   "execution_count": 30,
   "metadata": {},
   "outputs": [
    {
     "name": "stdout",
     "output_type": "stream",
     "text": [
      "1/1 [==============================] - 0s 37ms/step\n",
      "[[0.97031856]]\n",
      "LSTM_Model tomorrow price prediction:  [[414.03632]]\n",
      "1/1 [==============================] - 0s 28ms/step\n",
      "[[0.98534596]]\n",
      "GRU_Model tomorrow price prediction:  [[419.6985]]\n",
      "Tomorrow expected price:  425.2300109863281\n"
     ]
    }
   ],
   "source": [
    "last_sequence = last_sequence.reshape(1, time_steps, 4)\n",
    "\n",
    "next_day_prediction = model.predict(last_sequence)\n",
    "print(next_day_prediction)\n",
    "\n",
    "print(\"LSTM_Model tomorrow price prediction: \",close_scaler.inverse_transform(next_day_prediction))\n",
    "\n",
    "next_day_prediction = gru_model.predict(last_sequence)\n",
    "print(next_day_prediction)\n",
    "\n",
    "print(\"GRU_Model tomorrow price prediction: \",close_scaler.inverse_transform(next_day_prediction))\n",
    "\n",
    "print(\"Tomorrow expected price: \",last_row['Close'])"
   ]
  }
 ],
 "metadata": {
  "kernelspec": {
   "display_name": "stock-prediction-env",
   "language": "python",
   "name": "python3"
  },
  "language_info": {
   "codemirror_mode": {
    "name": "ipython",
    "version": 3
   },
   "file_extension": ".py",
   "mimetype": "text/x-python",
   "name": "python",
   "nbconvert_exporter": "python",
   "pygments_lexer": "ipython3",
   "version": "3.9.18"
  }
 },
 "nbformat": 4,
 "nbformat_minor": 2
}
